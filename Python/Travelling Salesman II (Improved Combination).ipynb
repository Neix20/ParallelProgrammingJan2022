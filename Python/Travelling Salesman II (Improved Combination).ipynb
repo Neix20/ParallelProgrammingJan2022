{
 "cells": [
  {
   "cell_type": "markdown",
   "id": "recovered-customer",
   "metadata": {},
   "source": [
    "## Load Library"
   ]
  },
  {
   "cell_type": "code",
   "execution_count": 1,
   "id": "undefined-amateur",
   "metadata": {},
   "outputs": [],
   "source": [
    "import math\n",
    "import time\n",
    "import itertools\n",
    "\n",
    "import numpy as np\n",
    "import pandas as pd\n",
    "import networkx as nx\n",
    "\n",
    "import matplotlib.pyplot as plt\n",
    "%matplotlib inline"
   ]
  },
  {
   "cell_type": "markdown",
   "id": "romantic-pressing",
   "metadata": {},
   "source": [
    "## Read File"
   ]
  },
  {
   "cell_type": "code",
   "execution_count": 2,
   "id": "timely-breathing",
   "metadata": {},
   "outputs": [],
   "source": [
    "inFile = open(\"tsp.txt\", \"r\")"
   ]
  },
  {
   "cell_type": "markdown",
   "id": "increased-native",
   "metadata": {},
   "source": [
    "## Convert File to Pandas"
   ]
  },
  {
   "cell_type": "code",
   "execution_count": 3,
   "id": "light-paint",
   "metadata": {},
   "outputs": [
    {
     "data": {
      "text/html": [
       "<div>\n",
       "<style scoped>\n",
       "    .dataframe tbody tr th:only-of-type {\n",
       "        vertical-align: middle;\n",
       "    }\n",
       "\n",
       "    .dataframe tbody tr th {\n",
       "        vertical-align: top;\n",
       "    }\n",
       "\n",
       "    .dataframe thead th {\n",
       "        text-align: right;\n",
       "    }\n",
       "</style>\n",
       "<table border=\"1\" class=\"dataframe\">\n",
       "  <thead>\n",
       "    <tr style=\"text-align: right;\">\n",
       "      <th></th>\n",
       "      <th>Name</th>\n",
       "      <th>X</th>\n",
       "      <th>Y</th>\n",
       "    </tr>\n",
       "  </thead>\n",
       "  <tbody>\n",
       "    <tr>\n",
       "      <th>0</th>\n",
       "      <td>Depot</td>\n",
       "      <td>433</td>\n",
       "      <td>204</td>\n",
       "    </tr>\n",
       "    <tr>\n",
       "      <th>1</th>\n",
       "      <td>Point1</td>\n",
       "      <td>510</td>\n",
       "      <td>162</td>\n",
       "    </tr>\n",
       "    <tr>\n",
       "      <th>2</th>\n",
       "      <td>Parcel2</td>\n",
       "      <td>564</td>\n",
       "      <td>132</td>\n",
       "    </tr>\n",
       "    <tr>\n",
       "      <th>3</th>\n",
       "      <td>Parcel3</td>\n",
       "      <td>575</td>\n",
       "      <td>174</td>\n",
       "    </tr>\n",
       "    <tr>\n",
       "      <th>4</th>\n",
       "      <td>Point4</td>\n",
       "      <td>422</td>\n",
       "      <td>163</td>\n",
       "    </tr>\n",
       "    <tr>\n",
       "      <th>5</th>\n",
       "      <td>Parcel5</td>\n",
       "      <td>345</td>\n",
       "      <td>121</td>\n",
       "    </tr>\n",
       "    <tr>\n",
       "      <th>6</th>\n",
       "      <td>Parcel6</td>\n",
       "      <td>392</td>\n",
       "      <td>115</td>\n",
       "    </tr>\n",
       "    <tr>\n",
       "      <th>7</th>\n",
       "      <td>Point7</td>\n",
       "      <td>324</td>\n",
       "      <td>226</td>\n",
       "    </tr>\n",
       "    <tr>\n",
       "      <th>8</th>\n",
       "      <td>Parcel8</td>\n",
       "      <td>284</td>\n",
       "      <td>217</td>\n",
       "    </tr>\n",
       "    <tr>\n",
       "      <th>9</th>\n",
       "      <td>Parcel9</td>\n",
       "      <td>294</td>\n",
       "      <td>268</td>\n",
       "    </tr>\n",
       "  </tbody>\n",
       "</table>\n",
       "</div>"
      ],
      "text/plain": [
       "      Name    X    Y\n",
       "0    Depot  433  204\n",
       "1   Point1  510  162\n",
       "2  Parcel2  564  132\n",
       "3  Parcel3  575  174\n",
       "4   Point4  422  163\n",
       "5  Parcel5  345  121\n",
       "6  Parcel6  392  115\n",
       "7   Point7  324  226\n",
       "8  Parcel8  284  217\n",
       "9  Parcel9  294  268"
      ]
     },
     "execution_count": 3,
     "metadata": {},
     "output_type": "execute_result"
    }
   ],
   "source": [
    "arr_list = []\n",
    "\n",
    "inFile.seek(0)\n",
    "for line in inFile.readlines():\n",
    "    line = line[:-1]\n",
    "    arr_list.append(line.split(\" \"))\n",
    "    \n",
    "df = pd.DataFrame(arr_list, columns = [\"Name\", \"X\", \"Y\"])\n",
    "\n",
    "# Convert Value From String to int\n",
    "df[\"X\"] = df[\"X\"].astype(int)\n",
    "df[\"Y\"] = df[\"Y\"].astype(int)\n",
    "\n",
    "df"
   ]
  },
  {
   "cell_type": "code",
   "execution_count": 4,
   "id": "seeing-corps",
   "metadata": {},
   "outputs": [],
   "source": [
    "def distance(p1, p2):\n",
    "    return math.sqrt((p1.x - p2.x) ** 2 + (p1.y - p2.y) ** 2)"
   ]
  },
  {
   "cell_type": "code",
   "execution_count": 5,
   "id": "resistant-registrar",
   "metadata": {},
   "outputs": [],
   "source": [
    "class Point:\n",
    "    def __init__(self, name, x, y):\n",
    "        self.name = name\n",
    "        self.x = x\n",
    "        self.y = y\n",
    "        \n",
    "    def __str__(self):\n",
    "        return f\"Name: {self.name}, X Pos: {self.x}, Y Pos: {self.y}\""
   ]
  },
  {
   "cell_type": "code",
   "execution_count": 6,
   "id": "thousand-ultimate",
   "metadata": {},
   "outputs": [],
   "source": [
    "def create_point(ind):\n",
    "    row = df.iloc[ind, :]\n",
    "    return Point(row.Name, row.X, row.Y)"
   ]
  },
  {
   "cell_type": "code",
   "execution_count": 7,
   "id": "organic-sigma",
   "metadata": {},
   "outputs": [],
   "source": [
    "def add_edge_to_graph(G, e1, e2, w):\n",
    "    G.add_edge(e1, e2, weight=w)"
   ]
  },
  {
   "cell_type": "markdown",
   "id": "sporting-reading",
   "metadata": {},
   "source": [
    "## Create Point Array"
   ]
  },
  {
   "cell_type": "code",
   "execution_count": 8,
   "id": "separate-drink",
   "metadata": {},
   "outputs": [
    {
     "data": {
      "text/plain": [
       "['Depot',\n",
       " 'Point1',\n",
       " 'Parcel2',\n",
       " 'Parcel3',\n",
       " 'Point4',\n",
       " 'Parcel5',\n",
       " 'Parcel6',\n",
       " 'Point7',\n",
       " 'Parcel8',\n",
       " 'Parcel9']"
      ]
     },
     "execution_count": 8,
     "metadata": {},
     "output_type": "execute_result"
    }
   ],
   "source": [
    "pt_arr = []\n",
    "\n",
    "inFile.seek(0)\n",
    "for line in inFile.readlines():\n",
    "    line = line[:-1]\n",
    "    tmp_arr = line.split(\" \")\n",
    "    \n",
    "    pt_name = tmp_arr[0]\n",
    "    x_pos = int(tmp_arr[1])\n",
    "    y_pos = int(tmp_arr[2])\n",
    "    \n",
    "    pt = Point(pt_name, x_pos, y_pos)\n",
    "    \n",
    "    pt_arr.append(pt)\n",
    "    \n",
    "name_arr = list(map(lambda x : x.name, pt_arr))\n",
    "name_arr"
   ]
  },
  {
   "cell_type": "markdown",
   "id": "egyptian-aberdeen",
   "metadata": {},
   "source": [
    "## Create Edge Array"
   ]
  },
  {
   "cell_type": "code",
   "execution_count": 9,
   "id": "floating-intake",
   "metadata": {},
   "outputs": [
    {
     "data": {
      "text/plain": [
       "[[inf, inf, 149.482, 145.134, inf, 120.967, 97.99, inf, 149.566, 153.026],\n",
       " [87.71, inf, 61.774, 66.098, inf, 170.018, 127.016, inf, 232.596, 240.608],\n",
       " [149.482,\n",
       "  61.774,\n",
       "  inf,\n",
       "  43.417,\n",
       "  145.344,\n",
       "  219.276,\n",
       "  172.838,\n",
       "  257.752,\n",
       "  292.617,\n",
       "  302.318],\n",
       " [145.134,\n",
       "  66.098,\n",
       "  43.417,\n",
       "  inf,\n",
       "  153.395,\n",
       "  236.028,\n",
       "  192.276,\n",
       "  256.33,\n",
       "  294.16,\n",
       "  296.306],\n",
       " [42.45, inf, 145.344, 153.395, inf, 87.71, 56.604, inf, 148.189, 165.557],\n",
       " [120.967,\n",
       "  170.018,\n",
       "  219.276,\n",
       "  236.028,\n",
       "  87.71,\n",
       "  inf,\n",
       "  47.381,\n",
       "  107.079,\n",
       "  113.741,\n",
       "  155.596],\n",
       " [97.99,\n",
       "  127.016,\n",
       "  172.838,\n",
       "  192.276,\n",
       "  56.604,\n",
       "  47.381,\n",
       "  inf,\n",
       "  130.173,\n",
       "  148.553,\n",
       "  181.695],\n",
       " [111.198, inf, 257.752, 256.33, inf, 107.079, 130.173, inf, 41.0, 51.614],\n",
       " [149.566,\n",
       "  232.596,\n",
       "  292.617,\n",
       "  294.16,\n",
       "  148.189,\n",
       "  113.741,\n",
       "  148.553,\n",
       "  41.0,\n",
       "  inf,\n",
       "  51.971],\n",
       " [153.026,\n",
       "  240.608,\n",
       "  302.318,\n",
       "  296.306,\n",
       "  165.557,\n",
       "  155.596,\n",
       "  181.695,\n",
       "  51.614,\n",
       "  51.971,\n",
       "  inf]]"
      ]
     },
     "execution_count": 9,
     "metadata": {},
     "output_type": "execute_result"
    }
   ],
   "source": [
    "adj_mat = []\n",
    "\n",
    "name_arr = list(map(lambda x : x.name, pt_arr))\n",
    "\n",
    "dist_val = 0\n",
    "\n",
    "for pt in pt_arr:\n",
    "    \n",
    "    name = pt.name\n",
    "    \n",
    "    tmp_arr = []\n",
    "    \n",
    "    for pt2 in pt_arr:\n",
    "        dist_val = round(distance(pt, pt2), 3)\n",
    "        if pt.name == pt2.name or (\"Depot\" in pt.name and \"Point\" in pt2.name) or (\"Point\" in pt.name and \"Point\" in pt2.name):\n",
    "            dist_val = float('inf')\n",
    "        tmp_arr.append(dist_val)\n",
    "    \n",
    "    adj_mat.append(tmp_arr)\n",
    "    \n",
    "adj_mat"
   ]
  },
  {
   "cell_type": "code",
   "execution_count": 10,
   "id": "prompt-credits",
   "metadata": {},
   "outputs": [],
   "source": [
    "def gen_adj_mat(adj_mat, column_arr):\n",
    "    tmp_adj_mat = []\n",
    "    for row_ind in range(len(adj_mat)):\n",
    "        if row_ind in column_arr:\n",
    "            tmp_list = []\n",
    "            for col_ind in column_arr:\n",
    "                tmp_list.append(adj_mat[row_ind][col_ind])\n",
    "            tmp_adj_mat.append(tmp_list)\n",
    "            \n",
    "    return tmp_adj_mat"
   ]
  },
  {
   "cell_type": "code",
   "execution_count": 11,
   "id": "developing-drive",
   "metadata": {},
   "outputs": [
    {
     "data": {
      "text/plain": [
       "[[inf, 149.482, 145.134, inf, 120.967],\n",
       " [149.482, inf, 43.417, 145.344, 219.276],\n",
       " [145.134, 43.417, inf, 153.395, 236.028],\n",
       " [42.45, 145.344, 153.395, inf, 87.71],\n",
       " [120.967, 219.276, 236.028, 87.71, inf]]"
      ]
     },
     "execution_count": 11,
     "metadata": {},
     "output_type": "execute_result"
    }
   ],
   "source": [
    "gen_adj_mat(adj_mat, [0, 2, 3, 4, 5])"
   ]
  },
  {
   "cell_type": "markdown",
   "id": "subtle-entrepreneur",
   "metadata": {},
   "source": [
    "## Create Path"
   ]
  },
  {
   "cell_type": "code",
   "execution_count": 12,
   "id": "dominant-desktop",
   "metadata": {},
   "outputs": [],
   "source": [
    "class Path:\n",
    "    def __init__(self, path, cost):\n",
    "        self.path = path\n",
    "        self.cost = cost\n",
    "        \n",
    "    def __lt__(self, other):\n",
    "        return self.cost <= other.cost\n",
    "        \n",
    "    def __str__(self):\n",
    "        return f\"Shortest Path:{self.path}\\nMinimum Cost: {self.cost}\"\n",
    "    \n",
    "    def __eq__(self, other):\n",
    "        return self.path == other.path and self.cost == other.cost\n",
    "    \n",
    "    def getNodePath(self, name_arr):\n",
    "        tmp_arr = list(map(lambda x : name_arr[x], self.path))\n",
    "        return \"->\".join(tmp_arr)"
   ]
  },
  {
   "cell_type": "markdown",
   "id": "employed-toner",
   "metadata": {},
   "source": [
    "## Create TSP Matrix"
   ]
  },
  {
   "cell_type": "code",
   "execution_count": 13,
   "id": "intermediate-faculty",
   "metadata": {},
   "outputs": [],
   "source": [
    "def held_karp(dists, column_arr):\n",
    "    \"\"\"\n",
    "    Implementation of Held-Karp, an algorithm that solves the Traveling\n",
    "    Salesman Problem using dynamic programming with memoization.\n",
    "    Parameters:\n",
    "        dists: distance matrix\n",
    "    Returns:\n",
    "        A tuple, (cost, path).\n",
    "    \"\"\"\n",
    "    n = len(dists)\n",
    "\n",
    "    # Maps each subset of the nodes to the cost to reach that subset, as well\n",
    "    # as what node it passed before reaching this subset.\n",
    "    # Node subsets are represented as set bits.\n",
    "    C = {}\n",
    "\n",
    "    # Set transition cost from initial state\n",
    "    for k in range(1, n):\n",
    "        C[(1 << k, k)] = (dists[0][k], 0)\n",
    "\n",
    "    # Iterate subsets of increasing length and store intermediate results\n",
    "    # in classic dynamic programming manner\n",
    "    for subset_size in range(2, n):\n",
    "        for subset in itertools.combinations(range(1, n), subset_size):\n",
    "            # Set bits for all nodes in this subset\n",
    "            bits = 0\n",
    "            for bit in subset:\n",
    "                bits |= 1 << bit\n",
    "\n",
    "            # Find the lowest cost to get to this subset\n",
    "            for k in subset:\n",
    "                prev = bits & ~(1 << k)\n",
    "\n",
    "                res = []\n",
    "                for m in subset:\n",
    "                    if m == 0 or m == k:\n",
    "                        continue\n",
    "                    res.append((C[(prev, m)][0] + dists[m][k], m))\n",
    "                    \n",
    "                # print((bits, k))\n",
    "                C[(bits, k)] = min(res)\n",
    "\n",
    "    # Calculate optimal cost\n",
    "    res = []\n",
    "    for k in range(1, n):\n",
    "        res.append((C[(bits, k)][0] + dists[k][0], k))\n",
    "    opt, parent = min(res)\n",
    "\n",
    "    # Backtrack to find full path\n",
    "    path = [\"Depot\"] * (n + 1)\n",
    "    for i in range(n - 1, 0, -1):\n",
    "        tmp_val = parent\n",
    "        path[i] = column_arr[tmp_val]\n",
    "        _, parent = C[(bits, tmp_val)]\n",
    "        bits = bits & ~(1 << tmp_val)\n",
    "        \n",
    "    return opt, path"
   ]
  },
  {
   "cell_type": "code",
   "execution_count": 14,
   "id": "authentic-convention",
   "metadata": {},
   "outputs": [],
   "source": [
    "# held_karp(adj_mat, name_arr)"
   ]
  },
  {
   "cell_type": "code",
   "execution_count": 15,
   "id": "hybrid-retreat",
   "metadata": {},
   "outputs": [],
   "source": [
    "# parcel_arr = [ind for (ind, val) in enumerate(name_arr) if \"Parcel\" in val]\n",
    "# point_arr = [ind for (ind, val) in enumerate(name_arr) if \"Point\" in val]\n",
    "\n",
    "# hk_path = Path([], float('inf'))\n",
    "\n",
    "# final_start = time.process_time()\n",
    "\n",
    "# combo_set = set(itertools.combinations(parcel_arr, len(point_arr)))\n",
    "# total, ind = len(combo_set), 1\n",
    "\n",
    "# print(f\"Total Combinations: {total}\")\n",
    "# for parcel_set in combo_set:\n",
    "    \n",
    "#     tmp_list = [0] + [*parcel_set] + point_arr\n",
    "#     tmp_list = sorted(tmp_list)\n",
    "    \n",
    "#     tmp_adj_mat = gen_adj_mat(adj_mat, tmp_list)\n",
    "    \n",
    "#     tmp_list = list(map(lambda x : name_arr[x], tmp_list))\n",
    "    \n",
    "#     start = time.process_time()\n",
    "#     val, best_path = held_karp(tmp_adj_mat, tmp_list)\n",
    "#     print(f\"Time Taken (Held-Karp): {time.process_time() - start}\")\n",
    "    \n",
    "#     hk_path = min(hk_path, Path(best_path, val))\n",
    "    \n",
    "#     print(f\"Progress: {round(ind / total * 100.0, 2)}%\\n\")\n",
    "    \n",
    "#     ind += 1\n",
    "    \n",
    "# print(f\"Final Time Taken (Held-Karp): {time.process_time() - final_start}\")\n",
    "# print(hk_path)"
   ]
  },
  {
   "cell_type": "markdown",
   "id": "occasional-practitioner",
   "metadata": {},
   "source": [
    "## Optimized Held Karp"
   ]
  },
  {
   "cell_type": "code",
   "execution_count": 16,
   "id": "greek-illinois",
   "metadata": {},
   "outputs": [
    {
     "name": "stdout",
     "output_type": "stream",
     "text": [
      "1 1\n"
     ]
    }
   ],
   "source": [
    "parcel_arr = [ind for (ind, val) in enumerate(name_arr) if \"Parcel\" in val]\n",
    "point_arr = [ind for (ind, val) in enumerate(name_arr) if \"Point\" in val]\n",
    "\n",
    "subset_arr = []\n",
    "\n",
    "k, l = 1, 1\n",
    "\n",
    "print(k, l)\n",
    "\n",
    "subset_dict = {}\n",
    "for k in range(1, len(point_arr) + 1):\n",
    "    subset_dict[k] = itertools.combinations(point_arr, k)"
   ]
  },
  {
   "cell_type": "code",
   "execution_count": 17,
   "id": "social-breast",
   "metadata": {},
   "outputs": [
    {
     "name": "stdout",
     "output_type": "stream",
     "text": [
      "0.0\n"
     ]
    }
   ],
   "source": [
    "parcel_arr = [ind for (ind, val) in enumerate(name_arr) if \"Parcel\" in val]\n",
    "point_arr = [ind for (ind, val) in enumerate(name_arr) if \"Point\" in val]\n",
    "\n",
    "start = time.process_time()\n",
    "\n",
    "subset_arr = []\n",
    "\n",
    "for gSubset in itertools.combinations(parcel_arr, 1):\n",
    "    for rSubset in itertools.combinations(point_arr, 1):\n",
    "        subset_arr.append(([*gSubset], [*rSubset]))\n",
    "        \n",
    "subset_dict = {}\n",
    "for k in range(1, len(point_arr) + 1):\n",
    "    subset_dict[k] = [val for val in itertools.combinations(point_arr, k)]\n",
    "        \n",
    "for k in range(2, len(point_arr) + 1):\n",
    "    for gSubset in itertools.combinations(parcel_arr, k):\n",
    "        for l in range(k - 1, k + 1):\n",
    "            for rSubset in subset_dict[l]:\n",
    "                subset_arr.append(([*gSubset], [*rSubset]))\n",
    "        \n",
    "subset_arr = sorted(subset_arr, key = lambda x : len(x[0]) + len(x[1]))\n",
    "\n",
    "print(time.process_time() - start)"
   ]
  },
  {
   "cell_type": "code",
   "execution_count": 18,
   "id": "quality-alexandria",
   "metadata": {},
   "outputs": [
    {
     "name": "stdout",
     "output_type": "stream",
     "text": [
      "0.0\n"
     ]
    }
   ],
   "source": [
    "parcel_arr = [ind for (ind, val) in enumerate(name_arr) if \"Parcel\" in val]\n",
    "point_arr = [ind for (ind, val) in enumerate(name_arr) if \"Point\" in val]\n",
    "\n",
    "start = time.process_time()\n",
    "\n",
    "subset_arr_2 = []\n",
    "\n",
    "for k in range(1, len(point_arr) + 1):\n",
    "    for gSubset in itertools.combinations(parcel_arr, k):\n",
    "        for l in range(k - 1, k + 1):\n",
    "            if l == 0:\n",
    "                continue\n",
    "            for rSubset in itertools.combinations(point_arr, l):\n",
    "                subset_arr.append(([*gSubset], [*rSubset]))\n",
    "                \n",
    "subset_arr_2 = sorted(subset_arr_2, key = lambda x : len(x[0]) + len(x[1]))\n",
    "\n",
    "print(time.process_time() - start)"
   ]
  },
  {
   "cell_type": "code",
   "execution_count": 19,
   "id": "aggregate-specific",
   "metadata": {},
   "outputs": [
    {
     "name": "stdout",
     "output_type": "stream",
     "text": [
      "False\n"
     ]
    }
   ],
   "source": [
    "print(subset_arr == subset_arr_2)"
   ]
  },
  {
   "cell_type": "code",
   "execution_count": 20,
   "id": "accredited-whale",
   "metadata": {},
   "outputs": [],
   "source": [
    "def held_karp(dists, parcel_arr, point_arr, name_arr):\n",
    "    \"\"\"\n",
    "    Implementation of Held-Karp, an algorithm that solves the Traveling\n",
    "    Salesman Problem using dynamic programming with memoization.\n",
    "    Parameters:\n",
    "        dists: distance matrix\n",
    "    Returns:                             \n",
    "        A tuple, (cost, path).\n",
    "    \"\"\"\n",
    "    n = len(dists)\n",
    "\n",
    "    # Maps each subset of the nodes to the cost to reach that subset, as well\n",
    "    # as what node it passed before reaching this subset.\n",
    "    # Node subsets are represented as set bits.\n",
    "    C = {}\n",
    "    \n",
    "    subset_arr, route_arr = [], []\n",
    "    for gSubset in parcel_arr:\n",
    "        # Set transition cost from initial state\n",
    "        C[(1 << gSubset, gSubset)] = (dists[0][gSubset], 0)\n",
    "        \n",
    "        for rSubset in point_arr:\n",
    "            subset_arr.append(([gSubset], [rSubset]))\n",
    "        \n",
    "    subset_dict = {}\n",
    "    for k in range(1, len(point_arr) + 1):\n",
    "        subset_dict[k] = [val for val in itertools.combinations(point_arr, k)]\n",
    "        \n",
    "    for k in range(2, len(point_arr) + 1):\n",
    "        for gSubset in itertools.combinations(parcel_arr, k):\n",
    "            for l in range(k - 1, k + 1):\n",
    "                for rSubset in subset_dict[l]:\n",
    "                    subset_arr.append(([*gSubset], [*rSubset]))\n",
    "                    \n",
    "                    if l + k == 2 * len(point_arr):\n",
    "                        bits = 0\n",
    "                        for bit in gSubset:\n",
    "                            bits |= 1 << bit\n",
    "            \n",
    "                        for bit in rSubset:\n",
    "                            bits |= 1 << bit\n",
    "                        \n",
    "                        route_arr.append(bits)\n",
    "                \n",
    "#     subset_arr = sorted(subset_arr, key = lambda x : len(x[0]) + len(x[1]))\n",
    "\n",
    "    # Iterate subsets of increasing length and store intermediate results\n",
    "    # in classic dynamic programming manner\n",
    "    for subset in subset_arr:\n",
    "        gSubset, rSubset = subset\n",
    "        # Set bits for all nodes in this subset\n",
    "        bits = 0\n",
    "        \n",
    "        for bit in gSubset:\n",
    "            bits |= 1 << bit\n",
    "            \n",
    "        for bit in rSubset:\n",
    "            bits |= 1 << bit\n",
    "        \n",
    "        subset2 = []\n",
    "        \n",
    "        if len(gSubset) == len(rSubset):\n",
    "            # The last node FROM THE PREVIOUS SUBSET will be a red point\n",
    "            subset2 = gSubset\n",
    "        else:\n",
    "            # The last node FROM THE PREVIOUS SUBSET will be a green point\n",
    "            subset2 = rSubset\n",
    "            \n",
    "        subset1 = [0] * (len(gSubset) + len(rSubset))\n",
    "        \n",
    "        ind = 0\n",
    "        for elem in gSubset:\n",
    "            subset1[ind] = elem\n",
    "            ind += 1\n",
    "            \n",
    "        for elem in rSubset:\n",
    "            subset1[ind] = elem\n",
    "            ind += 1\n",
    "\n",
    "        # Find the lowest cost to get to this subset\n",
    "        for k in subset1:\n",
    "            prev = bits & ~(1 << k)\n",
    "\n",
    "            opt, parent = float('inf'), -1\n",
    "            flag = False\n",
    "            \n",
    "            for m in subset2:\n",
    "                # Check if Key Exist\n",
    "                key = (prev, m)\n",
    "                if key in C:\n",
    "                    flag = True\n",
    "                    tmp_opt = C[key][0] + dists[m][k]\n",
    "                    if tmp_opt <= opt:\n",
    "                        opt = tmp_opt\n",
    "                        parent = m\n",
    "                  \n",
    "            if flag:\n",
    "                C[(bits, k)] = (opt, parent)\n",
    "            \n",
    "    bits = 0\n",
    "    opt = float('inf')\n",
    "    parent = 0\n",
    "\n",
    "    # Calculate optimal cost\n",
    "    for route_bits in route_arr:\n",
    "        for k in point_arr:\n",
    "            tmp_opt = C[(route_bits, k)][0] + dists[k][0]\n",
    "            \n",
    "            if tmp_opt <= opt:\n",
    "                opt = tmp_opt\n",
    "                parent = k\n",
    "                bits = route_bits\n",
    "\n",
    "    # Backtrack to find full path\n",
    "    path = [\"Depot\"] * (2 * len(point_arr) + 2)\n",
    "    for i in range(2 * len(point_arr), 0, -1):\n",
    "        path[i] = name_arr[parent]\n",
    "        key = (bits, parent)\n",
    "        bits = bits & ~(1 << parent)\n",
    "        _, parent = C[key]\n",
    "        \n",
    "    return opt, path"
   ]
  },
  {
   "cell_type": "code",
   "execution_count": 21,
   "id": "according-spider",
   "metadata": {},
   "outputs": [
    {
     "name": "stdout",
     "output_type": "stream",
     "text": [
      "[2, 3, 5, 6, 8, 9] [1, 4, 7]\n"
     ]
    }
   ],
   "source": [
    "parcel_arr = [ind for (ind, val) in enumerate(name_arr) if \"Parcel\" in val]\n",
    "point_arr = [ind for (ind, val) in enumerate(name_arr) if \"Point\" in val]\n",
    "print(parcel_arr, point_arr)"
   ]
  },
  {
   "cell_type": "code",
   "execution_count": 22,
   "id": "raised-cannon",
   "metadata": {},
   "outputs": [
    {
     "name": "stdout",
     "output_type": "stream",
     "text": [
      "Shortest Path:['Depot', 'Parcel8', 'Point7', 'Parcel5', 'Point4', 'Parcel6', 'Point1', 'Depot']\n",
      "Minimum Cost: 656.685\n",
      "0.0\n"
     ]
    }
   ],
   "source": [
    "parcel_arr = [ind for (ind, val) in enumerate(name_arr) if \"Parcel\" in val]\n",
    "point_arr = [ind for (ind, val) in enumerate(name_arr) if \"Point\" in val]\n",
    "start = time.process_time()\n",
    "val, best_path = held_karp(adj_mat, parcel_arr, point_arr, name_arr)\n",
    "hk2_path = Path(best_path, val)\n",
    "print(hk2_path)\n",
    "print(time.process_time() - start)"
   ]
  },
  {
   "cell_type": "code",
   "execution_count": 23,
   "id": "humanitarian-flower",
   "metadata": {},
   "outputs": [],
   "source": [
    "# print(hk_path == hk2_path)"
   ]
  },
  {
   "cell_type": "code",
   "execution_count": null,
   "id": "handed-antigua",
   "metadata": {},
   "outputs": [],
   "source": []
  }
 ],
 "metadata": {
  "kernelspec": {
   "display_name": "Python 3",
   "language": "python",
   "name": "python3"
  },
  "language_info": {
   "codemirror_mode": {
    "name": "ipython",
    "version": 3
   },
   "file_extension": ".py",
   "mimetype": "text/x-python",
   "name": "python",
   "nbconvert_exporter": "python",
   "pygments_lexer": "ipython3",
   "version": "3.9.1"
  }
 },
 "nbformat": 4,
 "nbformat_minor": 5
}
