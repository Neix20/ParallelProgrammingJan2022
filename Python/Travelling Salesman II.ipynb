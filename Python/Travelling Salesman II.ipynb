{
 "cells": [
  {
   "cell_type": "markdown",
   "id": "recovered-customer",
   "metadata": {},
   "source": [
    "## Load Library"
   ]
  },
  {
   "cell_type": "code",
   "execution_count": 1,
   "id": "undefined-amateur",
   "metadata": {},
   "outputs": [],
   "source": [
    "import math\n",
    "import time\n",
    "import itertools\n",
    "\n",
    "import numpy as np\n",
    "import pandas as pd\n",
    "import networkx as nx\n",
    "\n",
    "import matplotlib.pyplot as plt\n",
    "%matplotlib inline"
   ]
  },
  {
   "cell_type": "markdown",
   "id": "romantic-pressing",
   "metadata": {},
   "source": [
    "## Read File"
   ]
  },
  {
   "cell_type": "code",
   "execution_count": 2,
   "id": "timely-breathing",
   "metadata": {},
   "outputs": [],
   "source": [
    "inFile = open(\"tsp.txt\", \"r\")"
   ]
  },
  {
   "cell_type": "markdown",
   "id": "increased-native",
   "metadata": {},
   "source": [
    "## Convert File to Pandas"
   ]
  },
  {
   "cell_type": "code",
   "execution_count": 3,
   "id": "light-paint",
   "metadata": {},
   "outputs": [
    {
     "data": {
      "text/html": [
       "<div>\n",
       "<style scoped>\n",
       "    .dataframe tbody tr th:only-of-type {\n",
       "        vertical-align: middle;\n",
       "    }\n",
       "\n",
       "    .dataframe tbody tr th {\n",
       "        vertical-align: top;\n",
       "    }\n",
       "\n",
       "    .dataframe thead th {\n",
       "        text-align: right;\n",
       "    }\n",
       "</style>\n",
       "<table border=\"1\" class=\"dataframe\">\n",
       "  <thead>\n",
       "    <tr style=\"text-align: right;\">\n",
       "      <th></th>\n",
       "      <th>Name</th>\n",
       "      <th>X</th>\n",
       "      <th>Y</th>\n",
       "    </tr>\n",
       "  </thead>\n",
       "  <tbody>\n",
       "    <tr>\n",
       "      <th>0</th>\n",
       "      <td>Depot</td>\n",
       "      <td>265</td>\n",
       "      <td>143</td>\n",
       "    </tr>\n",
       "    <tr>\n",
       "      <th>1</th>\n",
       "      <td>Parcel1</td>\n",
       "      <td>253</td>\n",
       "      <td>278</td>\n",
       "    </tr>\n",
       "    <tr>\n",
       "      <th>2</th>\n",
       "      <td>Point2</td>\n",
       "      <td>439</td>\n",
       "      <td>148</td>\n",
       "    </tr>\n",
       "    <tr>\n",
       "      <th>3</th>\n",
       "      <td>Parcel3</td>\n",
       "      <td>458</td>\n",
       "      <td>304</td>\n",
       "    </tr>\n",
       "    <tr>\n",
       "      <th>4</th>\n",
       "      <td>Point4</td>\n",
       "      <td>609</td>\n",
       "      <td>230</td>\n",
       "    </tr>\n",
       "    <tr>\n",
       "      <th>5</th>\n",
       "      <td>Parcel5</td>\n",
       "      <td>597</td>\n",
       "      <td>101</td>\n",
       "    </tr>\n",
       "  </tbody>\n",
       "</table>\n",
       "</div>"
      ],
      "text/plain": [
       "      Name    X    Y\n",
       "0    Depot  265  143\n",
       "1  Parcel1  253  278\n",
       "2   Point2  439  148\n",
       "3  Parcel3  458  304\n",
       "4   Point4  609  230\n",
       "5  Parcel5  597  101"
      ]
     },
     "execution_count": 3,
     "metadata": {},
     "output_type": "execute_result"
    }
   ],
   "source": [
    "arr_list = []\n",
    "\n",
    "inFile.seek(0)\n",
    "for line in inFile.readlines():\n",
    "    line = line[:-1]\n",
    "    arr_list.append(line.split(\" \"))\n",
    "    \n",
    "df = pd.DataFrame(arr_list, columns = [\"Name\", \"X\", \"Y\"])\n",
    "\n",
    "# Convert Value From String to int\n",
    "df[\"X\"] = df[\"X\"].astype(int)\n",
    "df[\"Y\"] = df[\"Y\"].astype(int)\n",
    "\n",
    "df"
   ]
  },
  {
   "cell_type": "code",
   "execution_count": 4,
   "id": "seeing-corps",
   "metadata": {},
   "outputs": [],
   "source": [
    "def distance(p1, p2):\n",
    "    return math.sqrt((p1.x - p2.x) ** 2 + (p1.y - p2.y) ** 2)"
   ]
  },
  {
   "cell_type": "code",
   "execution_count": 5,
   "id": "resistant-registrar",
   "metadata": {},
   "outputs": [],
   "source": [
    "class Point:\n",
    "    def __init__(self, name, x, y):\n",
    "        self.name = name\n",
    "        self.x = x\n",
    "        self.y = y\n",
    "        \n",
    "    def toString(self):\n",
    "        return f\"Name: {self.name}, X Pos: {self.x}, Y Pos: {self.y}\""
   ]
  },
  {
   "cell_type": "code",
   "execution_count": 6,
   "id": "thousand-ultimate",
   "metadata": {},
   "outputs": [],
   "source": [
    "def create_point(ind):\n",
    "    row = df.iloc[ind, :]\n",
    "    return Point(row.Name, row.X, row.Y)"
   ]
  },
  {
   "cell_type": "code",
   "execution_count": 7,
   "id": "organic-sigma",
   "metadata": {},
   "outputs": [],
   "source": [
    "def add_edge_to_graph(G, e1, e2, w):\n",
    "    G.add_edge(e1, e2, weight=w)"
   ]
  },
  {
   "cell_type": "markdown",
   "id": "sporting-reading",
   "metadata": {},
   "source": [
    "## Create Point Array"
   ]
  },
  {
   "cell_type": "code",
   "execution_count": 8,
   "id": "separate-drink",
   "metadata": {},
   "outputs": [
    {
     "data": {
      "text/plain": [
       "['Depot', 'Parcel1', 'Point2', 'Parcel3', 'Point4', 'Parcel5']"
      ]
     },
     "execution_count": 8,
     "metadata": {},
     "output_type": "execute_result"
    }
   ],
   "source": [
    "pt_arr = []\n",
    "\n",
    "inFile.seek(0)\n",
    "for line in inFile.readlines():\n",
    "    line = line[:-1]\n",
    "    tmp_arr = line.split(\" \")\n",
    "    \n",
    "    pt_name = tmp_arr[0]\n",
    "    x_pos = int(tmp_arr[1])\n",
    "    y_pos = int(tmp_arr[2])\n",
    "    \n",
    "    pt = Point(pt_name, x_pos, y_pos)\n",
    "    \n",
    "    pt_arr.append(pt)\n",
    "    \n",
    "name_arr = list(map(lambda x : x.name, pt_arr))\n",
    "name_arr"
   ]
  },
  {
   "cell_type": "markdown",
   "id": "egyptian-aberdeen",
   "metadata": {},
   "source": [
    "## Create Edge Array"
   ]
  },
  {
   "cell_type": "code",
   "execution_count": 9,
   "id": "floating-intake",
   "metadata": {},
   "outputs": [
    {
     "data": {
      "text/plain": [
       "[[inf, 135.532, inf, 251.336, inf, 334.646],\n",
       " [inf, inf, 226.927, inf, 359.221, inf],\n",
       " [174.072, 226.927, inf, 157.153, inf, 164.842],\n",
       " [inf, inf, 157.153, inf, 168.158, inf],\n",
       " [354.831, 359.221, inf, 168.158, inf, 129.557],\n",
       " [inf, inf, 164.842, inf, 129.557, inf]]"
      ]
     },
     "execution_count": 9,
     "metadata": {},
     "output_type": "execute_result"
    }
   ],
   "source": [
    "adj_mat = []\n",
    "\n",
    "name_arr = list(map(lambda x : x.name, pt_arr))\n",
    "\n",
    "dist_val = 0\n",
    "\n",
    "for pt in pt_arr:\n",
    "    \n",
    "    name = pt.name\n",
    "    \n",
    "    tmp_arr = []\n",
    "    \n",
    "    for pt2 in pt_arr:\n",
    "        dist_val = round(distance(pt, pt2), 3)\n",
    "        if pt.name == pt2.name or (\"Depot\" in pt.name and \"Point\" in pt2.name) or (\"Point\" in pt.name and \"Point\" in pt2.name) or (\"Parcel\" in pt.name and \"Parcel\" in pt2.name)or (\"Parcel\" in pt.name and \"Depot\" in pt2.name):\n",
    "            dist_val = float('inf')\n",
    "        tmp_arr.append(dist_val)\n",
    "    \n",
    "    adj_mat.append(tmp_arr)\n",
    "    \n",
    "adj_mat"
   ]
  },
  {
   "cell_type": "code",
   "execution_count": 10,
   "id": "prompt-credits",
   "metadata": {},
   "outputs": [],
   "source": [
    "def gen_adj_mat(adj_mat, column_arr):\n",
    "    tmp_adj_mat = []\n",
    "    for row_ind in range(len(adj_mat)):\n",
    "        if row_ind in column_arr:\n",
    "            tmp_list = []\n",
    "            for col_ind in column_arr:\n",
    "                tmp_list.append(adj_mat[row_ind][col_ind])\n",
    "            tmp_adj_mat.append(tmp_list)\n",
    "            \n",
    "    return tmp_adj_mat"
   ]
  },
  {
   "cell_type": "code",
   "execution_count": 11,
   "id": "developing-drive",
   "metadata": {},
   "outputs": [
    {
     "data": {
      "text/plain": [
       "[[inf, inf, 251.336, inf, 334.646],\n",
       " [174.072, inf, 157.153, inf, 164.842],\n",
       " [inf, 157.153, inf, 168.158, inf],\n",
       " [354.831, inf, 168.158, inf, 129.557],\n",
       " [inf, 164.842, inf, 129.557, inf]]"
      ]
     },
     "execution_count": 11,
     "metadata": {},
     "output_type": "execute_result"
    }
   ],
   "source": [
    "gen_adj_mat(adj_mat, [0, 2, 3, 4, 5])"
   ]
  },
  {
   "cell_type": "markdown",
   "id": "subtle-entrepreneur",
   "metadata": {},
   "source": [
    "## Create Path"
   ]
  },
  {
   "cell_type": "code",
   "execution_count": 12,
   "id": "dominant-desktop",
   "metadata": {},
   "outputs": [],
   "source": [
    "class Path:\n",
    "    def __init__(self, path, cost):\n",
    "        self.path = path\n",
    "        self.cost = cost\n",
    "        \n",
    "    def __lt__(self, other):\n",
    "        return self.cost <= other.cost\n",
    "        \n",
    "    def __str__(self):\n",
    "        return f\"Shortest Path:{self.path}\\nMinimum Cost: {self.cost}\"\n",
    "    \n",
    "    def __eq__(self, other):\n",
    "        return self.path == other.path and self.cost == other.cost\n",
    "    \n",
    "    def getNodePath(self, name_arr):\n",
    "        tmp_arr = list(map(lambda x : name_arr[x], self.path))\n",
    "        return \"->\".join(tmp_arr)"
   ]
  },
  {
   "cell_type": "markdown",
   "id": "employed-toner",
   "metadata": {},
   "source": [
    "## Create TSP Matrix"
   ]
  },
  {
   "cell_type": "code",
   "execution_count": 13,
   "id": "sound-transaction",
   "metadata": {},
   "outputs": [],
   "source": [
    "import itertools\n",
    "import random\n",
    "import sys\n",
    "\n",
    "def held_karp(dists, column_arr, route_arr, point_arr, possible_combination_arr):\n",
    "    \"\"\"\n",
    "    Implementation of Held-Karp, an algorithm that solves the Traveling\n",
    "    Salesman Problem using dynamic programming with memoization.\n",
    "    Parameters:\n",
    "        dists: distance matrix\n",
    "    Returns:\n",
    "        A tuple, (cost, path).\n",
    "    \"\"\"\n",
    "    n = len(dists)\n",
    "\n",
    "    # Maps each subset of the nodes to the cost to reach that subset, as well\n",
    "    # as what node it passed before reaching this subset.\n",
    "    # Node subsets are represented as set bits.\n",
    "    C = {}\n",
    "\n",
    "    # Set transition cost from initial state\n",
    "    for k in range(1, n):\n",
    "        C[(1 << k, k)] = (dists[0][k], 0)\n",
    "\n",
    "    # Iterate subsets of increasing length and store intermediate results\n",
    "    # in classic dynamic programming manner\n",
    "    for subset in possible_combination_arr:\n",
    "        # Set bits for all nodes in this subset\n",
    "        bits = 0\n",
    "        for bit in subset:\n",
    "            bits |= 1 << bit\n",
    "\n",
    "        # Find the lowest cost to get to this subset\n",
    "        for k in subset:\n",
    "            prev = bits & ~(1 << k)\n",
    "\n",
    "            res = []\n",
    "            for m in subset:\n",
    "                if m == 0 or m == k:\n",
    "                    continue\n",
    "                        \n",
    "                # Check if Key Exist\n",
    "                key = (prev, m)\n",
    "                res.append((C[key][0] + dists[m][k], m))\n",
    "            C[(bits, k)] = min(res)\n",
    "                \n",
    "    best_bits, best_opt, best_parent = 0, float('inf'), 0\n",
    "\n",
    "    # Calculate optimal cost\n",
    "    res = []\n",
    "    for route_bits in route_arr:\n",
    "        for k in point_arr:\n",
    "            tmp_opt = C[(route_bits,k)][0] + dists[k][0]\n",
    "            \n",
    "            if tmp_opt <= best_opt:\n",
    "                best_opt = tmp_opt\n",
    "                best_parent = k\n",
    "                best_bits = route_bits\n",
    "\n",
    "    # Backtrack to find full path\n",
    "    path = [\"Depot\"] * (2 * len(point_arr) + 2)\n",
    "    for i in range(2 * len(point_arr), 0, -1):\n",
    "        tmp_val = best_parent\n",
    "        path[i] = column_arr[tmp_val]\n",
    "        _, best_parent = C[(best_bits, tmp_val)]\n",
    "        best_bits = best_bits & ~(1 << tmp_val)\n",
    "        \n",
    "    return best_opt, path"
   ]
  },
  {
   "cell_type": "code",
   "execution_count": 14,
   "id": "damaged-casting",
   "metadata": {},
   "outputs": [
    {
     "name": "stdout",
     "output_type": "stream",
     "text": [
      "0.0\n",
      "[[1, 2], [1, 4], [3, 2], [3, 4], [5, 2], [5, 4], [1, 3, 2], [1, 3, 4], [1, 3, 2, 4], [3, 5, 2], [3, 5, 4], [3, 5, 2, 4], [1, 5, 2], [1, 5, 4], [1, 5, 2, 4]]\n",
      "0.0\n"
     ]
    }
   ],
   "source": [
    "parcel_arr = [ind for (ind, val) in enumerate(name_arr) if \"Parcel\" in val]\n",
    "point_arr = [ind for (ind, val) in enumerate(name_arr) if \"Point\" in val]\n",
    "\n",
    "start = time.process_time()\n",
    "route_arr = []\n",
    "for arr in set(itertools.combinations(parcel_arr, len(point_arr))):\n",
    "    tmp_arr = [*arr] + point_arr\n",
    "    route_arr.append(sum([1 << elem for elem in tmp_arr]))\n",
    "print(time.process_time() - start)\n",
    "\n",
    "tmp_arr = []\n",
    "\n",
    "start = time.process_time()\n",
    "possible_combination_arr = []\n",
    "for k in range(len(point_arr) + 1):\n",
    "    for arr in set(itertools.combinations(parcel_arr, k)):\n",
    "        for l in range(1, k + 1):\n",
    "            for arr_2 in set(itertools.combinations(point_arr, l)):\n",
    "                tmp_arr = [*arr] + [*arr_2]\n",
    "                possible_combination_arr.append(tmp_arr)\n",
    "                \n",
    "print(possible_combination_arr)\n",
    "print(time.process_time() - start)"
   ]
  },
  {
   "cell_type": "code",
   "execution_count": 15,
   "id": "hybrid-retreat",
   "metadata": {
    "scrolled": true
   },
   "outputs": [],
   "source": [
    "# parcel_arr = [ind for (ind, val) in enumerate(name_arr) if \"Parcel\" in val]\n",
    "# point_arr = [ind for (ind, val) in enumerate(name_arr) if \"Point\" in val]\n",
    "\n",
    "# min_path = Path([], float('inf'))\n",
    "\n",
    "# final_start = time.process_time()\n",
    "\n",
    "# combo_set = set(itertools.combinations(parcel_arr, len(point_arr)))\n",
    "# total, ind = len(combo_set), 1\n",
    "\n",
    "# print(f\"Total Combinations: {total}\")\n",
    "# for parcel_set in combo_set:\n",
    "    \n",
    "#     tmp_list = [0] + [*parcel_set] + point_arr\n",
    "#     tmp_list = sorted(tmp_list)\n",
    "    \n",
    "#     tmp_adj_mat = gen_adj_mat(adj_mat, tmp_list)\n",
    "    \n",
    "#     tmp_list = list(map(lambda x : name_arr[x], tmp_list))\n",
    "    \n",
    "#     start = time.process_time()\n",
    "#     val, best_path = held_karp(tmp_adj_mat, tmp_list)\n",
    "#     print(f\"Time Taken (Held-Karp): {time.process_time() - start}\")\n",
    "    \n",
    "#     min_path = min(min_path, Path(best_path, val))\n",
    "    \n",
    "#     print(f\"Progress: {round(ind / total * 100.0, 2)}%\\n\")\n",
    "    \n",
    "#     ind += 1\n",
    "    \n",
    "# print(f\"Final Time Taken (Held-Karp): {time.process_time() - final_start}\")\n",
    "# print(min_path)"
   ]
  },
  {
   "cell_type": "code",
   "execution_count": 16,
   "id": "identical-evaluation",
   "metadata": {},
   "outputs": [
    {
     "ename": "KeyError",
     "evalue": "(10, 1)",
     "output_type": "error",
     "traceback": [
      "\u001b[1;31m---------------------------------------------------------------------------\u001b[0m",
      "\u001b[1;31mKeyError\u001b[0m                                  Traceback (most recent call last)",
      "\u001b[1;32m<ipython-input-16-9e5bf0a0f88a>\u001b[0m in \u001b[0;36m<module>\u001b[1;34m\u001b[0m\n\u001b[0;32m      1\u001b[0m \u001b[0mstart\u001b[0m \u001b[1;33m=\u001b[0m \u001b[0mtime\u001b[0m\u001b[1;33m.\u001b[0m\u001b[0mprocess_time\u001b[0m\u001b[1;33m(\u001b[0m\u001b[1;33m)\u001b[0m\u001b[1;33m\u001b[0m\u001b[1;33m\u001b[0m\u001b[0m\n\u001b[1;32m----> 2\u001b[1;33m \u001b[0mval\u001b[0m\u001b[1;33m,\u001b[0m \u001b[0mbest_path\u001b[0m \u001b[1;33m=\u001b[0m \u001b[0mheld_karp\u001b[0m\u001b[1;33m(\u001b[0m\u001b[0madj_mat\u001b[0m\u001b[1;33m,\u001b[0m \u001b[0mname_arr\u001b[0m\u001b[1;33m,\u001b[0m \u001b[0mroute_arr\u001b[0m\u001b[1;33m,\u001b[0m \u001b[0mpoint_arr\u001b[0m\u001b[1;33m,\u001b[0m \u001b[0mpossible_combination_arr\u001b[0m\u001b[1;33m)\u001b[0m\u001b[1;33m\u001b[0m\u001b[1;33m\u001b[0m\u001b[0m\n\u001b[0m\u001b[0;32m      3\u001b[0m \u001b[0mprint\u001b[0m\u001b[1;33m(\u001b[0m\u001b[0mPath\u001b[0m\u001b[1;33m(\u001b[0m\u001b[0mval\u001b[0m\u001b[1;33m,\u001b[0m \u001b[0mbest_path\u001b[0m\u001b[1;33m)\u001b[0m\u001b[1;33m)\u001b[0m\u001b[1;33m\u001b[0m\u001b[1;33m\u001b[0m\u001b[0m\n\u001b[0;32m      4\u001b[0m \u001b[0mprint\u001b[0m\u001b[1;33m(\u001b[0m\u001b[0mtime\u001b[0m\u001b[1;33m.\u001b[0m\u001b[0mprocess_time\u001b[0m\u001b[1;33m(\u001b[0m\u001b[1;33m)\u001b[0m \u001b[1;33m-\u001b[0m \u001b[0mstart\u001b[0m\u001b[1;33m)\u001b[0m\u001b[1;33m\u001b[0m\u001b[1;33m\u001b[0m\u001b[0m\n",
      "\u001b[1;32m<ipython-input-13-0db64c13059f>\u001b[0m in \u001b[0;36mheld_karp\u001b[1;34m(dists, column_arr, route_arr, point_arr, possible_combination_arr)\u001b[0m\n\u001b[0;32m     42\u001b[0m                 \u001b[1;31m# Check if Key Exist\u001b[0m\u001b[1;33m\u001b[0m\u001b[1;33m\u001b[0m\u001b[1;33m\u001b[0m\u001b[0m\n\u001b[0;32m     43\u001b[0m                 \u001b[0mkey\u001b[0m \u001b[1;33m=\u001b[0m \u001b[1;33m(\u001b[0m\u001b[0mprev\u001b[0m\u001b[1;33m,\u001b[0m \u001b[0mm\u001b[0m\u001b[1;33m)\u001b[0m\u001b[1;33m\u001b[0m\u001b[1;33m\u001b[0m\u001b[0m\n\u001b[1;32m---> 44\u001b[1;33m                 \u001b[0mres\u001b[0m\u001b[1;33m.\u001b[0m\u001b[0mappend\u001b[0m\u001b[1;33m(\u001b[0m\u001b[1;33m(\u001b[0m\u001b[0mC\u001b[0m\u001b[1;33m[\u001b[0m\u001b[0mkey\u001b[0m\u001b[1;33m]\u001b[0m\u001b[1;33m[\u001b[0m\u001b[1;36m0\u001b[0m\u001b[1;33m]\u001b[0m \u001b[1;33m+\u001b[0m \u001b[0mdists\u001b[0m\u001b[1;33m[\u001b[0m\u001b[0mm\u001b[0m\u001b[1;33m]\u001b[0m\u001b[1;33m[\u001b[0m\u001b[0mk\u001b[0m\u001b[1;33m]\u001b[0m\u001b[1;33m,\u001b[0m \u001b[0mm\u001b[0m\u001b[1;33m)\u001b[0m\u001b[1;33m)\u001b[0m\u001b[1;33m\u001b[0m\u001b[1;33m\u001b[0m\u001b[0m\n\u001b[0m\u001b[0;32m     45\u001b[0m             \u001b[0mC\u001b[0m\u001b[1;33m[\u001b[0m\u001b[1;33m(\u001b[0m\u001b[0mbits\u001b[0m\u001b[1;33m,\u001b[0m \u001b[0mk\u001b[0m\u001b[1;33m)\u001b[0m\u001b[1;33m]\u001b[0m \u001b[1;33m=\u001b[0m \u001b[0mmin\u001b[0m\u001b[1;33m(\u001b[0m\u001b[0mres\u001b[0m\u001b[1;33m)\u001b[0m\u001b[1;33m\u001b[0m\u001b[1;33m\u001b[0m\u001b[0m\n\u001b[0;32m     46\u001b[0m \u001b[1;33m\u001b[0m\u001b[0m\n",
      "\u001b[1;31mKeyError\u001b[0m: (10, 1)"
     ]
    }
   ],
   "source": [
    "start = time.process_time()\n",
    "val, best_path = held_karp(adj_mat, name_arr, route_arr, point_arr, possible_combination_arr)\n",
    "print(Path(val, best_path))\n",
    "print(time.process_time() - start)"
   ]
  },
  {
   "cell_type": "code",
   "execution_count": null,
   "id": "aggregate-office",
   "metadata": {},
   "outputs": [],
   "source": []
  },
  {
   "cell_type": "code",
   "execution_count": null,
   "id": "accredited-whale",
   "metadata": {},
   "outputs": [],
   "source": []
  }
 ],
 "metadata": {
  "kernelspec": {
   "display_name": "Python 3",
   "language": "python",
   "name": "python3"
  },
  "language_info": {
   "codemirror_mode": {
    "name": "ipython",
    "version": 3
   },
   "file_extension": ".py",
   "mimetype": "text/x-python",
   "name": "python",
   "nbconvert_exporter": "python",
   "pygments_lexer": "ipython3",
   "version": "3.9.1"
  }
 },
 "nbformat": 4,
 "nbformat_minor": 5
}
