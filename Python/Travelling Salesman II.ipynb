{
 "cells": [
  {
   "cell_type": "markdown",
   "id": "recovered-customer",
   "metadata": {},
   "source": [
    "## Load Library"
   ]
  },
  {
   "cell_type": "code",
   "execution_count": 1,
   "id": "undefined-amateur",
   "metadata": {},
   "outputs": [],
   "source": [
    "import math\n",
    "import time\n",
    "import itertools\n",
    "\n",
    "import numpy as np\n",
    "import pandas as pd\n",
    "import networkx as nx\n",
    "\n",
    "import matplotlib.pyplot as plt\n",
    "%matplotlib inline"
   ]
  },
  {
   "cell_type": "markdown",
   "id": "romantic-pressing",
   "metadata": {},
   "source": [
    "## Read File"
   ]
  },
  {
   "cell_type": "code",
   "execution_count": 2,
   "id": "timely-breathing",
   "metadata": {},
   "outputs": [],
   "source": [
    "inFile = open(\"tsp.txt\", \"r\")"
   ]
  },
  {
   "cell_type": "markdown",
   "id": "increased-native",
   "metadata": {},
   "source": [
    "## Convert File to Pandas"
   ]
  },
  {
   "cell_type": "code",
   "execution_count": 3,
   "id": "light-paint",
   "metadata": {},
   "outputs": [
    {
     "data": {
      "text/html": [
       "<div>\n",
       "<style scoped>\n",
       "    .dataframe tbody tr th:only-of-type {\n",
       "        vertical-align: middle;\n",
       "    }\n",
       "\n",
       "    .dataframe tbody tr th {\n",
       "        vertical-align: top;\n",
       "    }\n",
       "\n",
       "    .dataframe thead th {\n",
       "        text-align: right;\n",
       "    }\n",
       "</style>\n",
       "<table border=\"1\" class=\"dataframe\">\n",
       "  <thead>\n",
       "    <tr style=\"text-align: right;\">\n",
       "      <th></th>\n",
       "      <th>Name</th>\n",
       "      <th>X</th>\n",
       "      <th>Y</th>\n",
       "    </tr>\n",
       "  </thead>\n",
       "  <tbody>\n",
       "    <tr>\n",
       "      <th>0</th>\n",
       "      <td>Depot</td>\n",
       "      <td>265</td>\n",
       "      <td>143</td>\n",
       "    </tr>\n",
       "    <tr>\n",
       "      <th>1</th>\n",
       "      <td>Parcel1</td>\n",
       "      <td>253</td>\n",
       "      <td>278</td>\n",
       "    </tr>\n",
       "    <tr>\n",
       "      <th>2</th>\n",
       "      <td>Point2</td>\n",
       "      <td>439</td>\n",
       "      <td>148</td>\n",
       "    </tr>\n",
       "    <tr>\n",
       "      <th>3</th>\n",
       "      <td>Parcel3</td>\n",
       "      <td>458</td>\n",
       "      <td>304</td>\n",
       "    </tr>\n",
       "    <tr>\n",
       "      <th>4</th>\n",
       "      <td>Point4</td>\n",
       "      <td>609</td>\n",
       "      <td>230</td>\n",
       "    </tr>\n",
       "    <tr>\n",
       "      <th>5</th>\n",
       "      <td>Parcel5</td>\n",
       "      <td>597</td>\n",
       "      <td>101</td>\n",
       "    </tr>\n",
       "  </tbody>\n",
       "</table>\n",
       "</div>"
      ],
      "text/plain": [
       "      Name    X    Y\n",
       "0    Depot  265  143\n",
       "1  Parcel1  253  278\n",
       "2   Point2  439  148\n",
       "3  Parcel3  458  304\n",
       "4   Point4  609  230\n",
       "5  Parcel5  597  101"
      ]
     },
     "execution_count": 3,
     "metadata": {},
     "output_type": "execute_result"
    }
   ],
   "source": [
    "arr_list = []\n",
    "\n",
    "inFile.seek(0)\n",
    "for line in inFile.readlines():\n",
    "    line = line[:-1]\n",
    "    arr_list.append(line.split(\" \"))\n",
    "    \n",
    "df = pd.DataFrame(arr_list, columns = [\"Name\", \"X\", \"Y\"])\n",
    "\n",
    "# Convert Value From String to int\n",
    "df[\"X\"] = df[\"X\"].astype(int)\n",
    "df[\"Y\"] = df[\"Y\"].astype(int)\n",
    "\n",
    "df"
   ]
  },
  {
   "cell_type": "code",
   "execution_count": 4,
   "id": "seeing-corps",
   "metadata": {},
   "outputs": [],
   "source": [
    "def distance(p1, p2):\n",
    "    return math.sqrt((p1.x - p2.x) ** 2 + (p1.y - p2.y) ** 2)"
   ]
  },
  {
   "cell_type": "code",
   "execution_count": 5,
   "id": "resistant-registrar",
   "metadata": {},
   "outputs": [],
   "source": [
    "class Point:\n",
    "    def __init__(self, name, x, y):\n",
    "        self.name = name\n",
    "        self.x = x\n",
    "        self.y = y\n",
    "        \n",
    "    def toString(self):\n",
    "        return f\"Name: {self.name}, X Pos: {self.x}, Y Pos: {self.y}\""
   ]
  },
  {
   "cell_type": "code",
   "execution_count": 6,
   "id": "thousand-ultimate",
   "metadata": {},
   "outputs": [],
   "source": [
    "def create_point(ind):\n",
    "    row = df.iloc[ind, :]\n",
    "    return Point(row.Name, row.X, row.Y)"
   ]
  },
  {
   "cell_type": "code",
   "execution_count": 7,
   "id": "organic-sigma",
   "metadata": {},
   "outputs": [],
   "source": [
    "def add_edge_to_graph(G, e1, e2, w):\n",
    "    G.add_edge(e1, e2, weight=w)"
   ]
  },
  {
   "cell_type": "markdown",
   "id": "sporting-reading",
   "metadata": {},
   "source": [
    "## Create Point Array"
   ]
  },
  {
   "cell_type": "code",
   "execution_count": 8,
   "id": "separate-drink",
   "metadata": {},
   "outputs": [
    {
     "data": {
      "text/plain": [
       "['Depot', 'Parcel1', 'Point2', 'Parcel3', 'Point4', 'Parcel5']"
      ]
     },
     "execution_count": 8,
     "metadata": {},
     "output_type": "execute_result"
    }
   ],
   "source": [
    "pt_arr = []\n",
    "\n",
    "inFile.seek(0)\n",
    "for line in inFile.readlines():\n",
    "    line = line[:-1]\n",
    "    tmp_arr = line.split(\" \")\n",
    "    \n",
    "    pt_name = tmp_arr[0]\n",
    "    x_pos = int(tmp_arr[1])\n",
    "    y_pos = int(tmp_arr[2])\n",
    "    \n",
    "    pt = Point(pt_name, x_pos, y_pos)\n",
    "    \n",
    "    pt_arr.append(pt)\n",
    "    \n",
    "name_arr = list(map(lambda x : x.name, pt_arr))\n",
    "name_arr"
   ]
  },
  {
   "cell_type": "markdown",
   "id": "egyptian-aberdeen",
   "metadata": {},
   "source": [
    "## Create Edge Array"
   ]
  },
  {
   "cell_type": "code",
   "execution_count": 9,
   "id": "floating-intake",
   "metadata": {},
   "outputs": [
    {
     "data": {
      "text/plain": [
       "[[inf, 135.532, inf, 251.336, inf, 334.646],\n",
       " [135.532, inf, 226.927, 206.642, 359.221, 386.866],\n",
       " [174.072, 226.927, inf, 157.153, inf, 164.842],\n",
       " [251.336, 206.642, 157.153, inf, 168.158, 246.028],\n",
       " [354.831, 359.221, inf, 168.158, inf, 129.557],\n",
       " [334.646, 386.866, 164.842, 246.028, 129.557, inf]]"
      ]
     },
     "execution_count": 9,
     "metadata": {},
     "output_type": "execute_result"
    }
   ],
   "source": [
    "adj_mat = []\n",
    "\n",
    "name_arr = list(map(lambda x : x.name, pt_arr))\n",
    "\n",
    "dist_val = 0\n",
    "\n",
    "for pt in pt_arr:\n",
    "    \n",
    "    name = pt.name\n",
    "    \n",
    "    tmp_arr = []\n",
    "    \n",
    "    for pt2 in pt_arr:\n",
    "        dist_val = round(distance(pt, pt2), 3)\n",
    "        if pt.name == pt2.name or (\"Depot\" in pt.name and \"Point\" in pt2.name) or (\"Point\" in pt.name and \"Point\" in pt2.name):\n",
    "            dist_val = float('inf')\n",
    "        tmp_arr.append(dist_val)\n",
    "    \n",
    "    adj_mat.append(tmp_arr)\n",
    "    \n",
    "adj_mat"
   ]
  },
  {
   "cell_type": "code",
   "execution_count": 10,
   "id": "prompt-credits",
   "metadata": {},
   "outputs": [],
   "source": [
    "def gen_adj_mat(adj_mat, column_arr):\n",
    "    tmp_adj_mat = []\n",
    "    for row_ind in range(len(adj_mat)):\n",
    "        if row_ind in column_arr:\n",
    "            tmp_list = []\n",
    "            for col_ind in column_arr:\n",
    "                tmp_list.append(adj_mat[row_ind][col_ind])\n",
    "            tmp_adj_mat.append(tmp_list)\n",
    "            \n",
    "    return tmp_adj_mat"
   ]
  },
  {
   "cell_type": "code",
   "execution_count": 11,
   "id": "developing-drive",
   "metadata": {},
   "outputs": [
    {
     "data": {
      "text/plain": [
       "[[inf, inf, 251.336, inf, 334.646],\n",
       " [174.072, inf, 157.153, inf, 164.842],\n",
       " [251.336, 157.153, inf, 168.158, 246.028],\n",
       " [354.831, inf, 168.158, inf, 129.557],\n",
       " [334.646, 164.842, 246.028, 129.557, inf]]"
      ]
     },
     "execution_count": 11,
     "metadata": {},
     "output_type": "execute_result"
    }
   ],
   "source": [
    "gen_adj_mat(adj_mat, [0, 2, 3, 4, 5])"
   ]
  },
  {
   "cell_type": "markdown",
   "id": "subtle-entrepreneur",
   "metadata": {},
   "source": [
    "## Create Path"
   ]
  },
  {
   "cell_type": "code",
   "execution_count": 12,
   "id": "dominant-desktop",
   "metadata": {},
   "outputs": [],
   "source": [
    "class Path:\n",
    "    def __init__(self, path, cost):\n",
    "        self.path = path\n",
    "        self.cost = cost\n",
    "        \n",
    "    def __lt__(self, other):\n",
    "        return self.cost <= other.cost\n",
    "        \n",
    "    def __str__(self):\n",
    "        return f\"Shortest Path:{self.path}\\nMinimum Cost: {self.cost}\"\n",
    "    \n",
    "    def __eq__(self, other):\n",
    "        return self.path == other.path and self.cost == other.cost\n",
    "    \n",
    "    def getNodePath(self, name_arr):\n",
    "        tmp_arr = list(map(lambda x : name_arr[x], self.path))\n",
    "        return \"->\".join(tmp_arr)"
   ]
  },
  {
   "cell_type": "markdown",
   "id": "employed-toner",
   "metadata": {},
   "source": [
    "## Create TSP Matrix"
   ]
  },
  {
   "cell_type": "code",
   "execution_count": 13,
   "id": "intermediate-faculty",
   "metadata": {},
   "outputs": [],
   "source": [
    "def held_karp(dists, column_arr):\n",
    "    \"\"\"\n",
    "    Implementation of Held-Karp, an algorithm that solves the Traveling\n",
    "    Salesman Problem using dynamic programming with memoization.\n",
    "    Parameters:\n",
    "        dists: distance matrix\n",
    "    Returns:\n",
    "        A tuple, (cost, path).\n",
    "    \"\"\"\n",
    "    n = len(dists)\n",
    "\n",
    "    # Maps each subset of the nodes to the cost to reach that subset, as well\n",
    "    # as what node it passed before reaching this subset.\n",
    "    # Node subsets are represented as set bits.\n",
    "    C = {}\n",
    "\n",
    "    # Set transition cost from initial state\n",
    "    for k in range(1, n):\n",
    "        C[(1 << k, k)] = (dists[0][k], 0)\n",
    "\n",
    "    # Iterate subsets of increasing length and store intermediate results\n",
    "    # in classic dynamic programming manner\n",
    "    for subset_size in range(2, n):\n",
    "        for subset in itertools.combinations(range(1, n), subset_size):\n",
    "            # Set bits for all nodes in this subset\n",
    "            bits = 0\n",
    "            for bit in subset:\n",
    "                bits |= 1 << bit\n",
    "            \n",
    "            # print(bits, subset)\n",
    "\n",
    "            # Find the lowest cost to get to this subset\n",
    "            for k in subset:\n",
    "                prev = bits & ~(1 << k)\n",
    "\n",
    "                res = []\n",
    "                for m in subset:\n",
    "                    if m == 0 or m == k:\n",
    "                        continue\n",
    "                    res.append((C[(prev, m)][0] + dists[m][k], m))\n",
    "                    \n",
    "                # print((bits, k))\n",
    "                C[(bits, k)] = min(res)\n",
    "\n",
    "    # Calculate optimal cost\n",
    "    res = []\n",
    "    for k in range(1, n):\n",
    "        res.append((C[(bits, k)][0] + dists[k][0], k))\n",
    "    opt, parent = min(res)\n",
    "\n",
    "    # Backtrack to find full path\n",
    "    path = [\"Depot\"] * (n + 1)\n",
    "    for i in range(n - 1, 0, -1):\n",
    "        tmp_val = parent\n",
    "        path[i] = column_arr[tmp_val]\n",
    "        _, parent = C[(bits, tmp_val)]\n",
    "        bits = bits & ~(1 << tmp_val)\n",
    "        \n",
    "    return opt, path"
   ]
  },
  {
   "cell_type": "code",
   "execution_count": 14,
   "id": "authentic-convention",
   "metadata": {},
   "outputs": [],
   "source": [
    "# held_karp(adj_mat, name_arr)"
   ]
  },
  {
   "cell_type": "code",
   "execution_count": 15,
   "id": "hybrid-retreat",
   "metadata": {},
   "outputs": [],
   "source": [
    "# parcel_arr = [ind for (ind, val) in enumerate(name_arr) if \"Parcel\" in val]\n",
    "# point_arr = [ind for (ind, val) in enumerate(name_arr) if \"Point\" in val]\n",
    "\n",
    "# hk_path = Path([], float('inf'))\n",
    "\n",
    "# final_start = time.process_time()\n",
    "\n",
    "# combo_set = set(itertools.combinations(parcel_arr, len(point_arr)))\n",
    "# total, ind = len(combo_set), 1\n",
    "\n",
    "# print(f\"Total Combinations: {total}\")\n",
    "# for parcel_set in combo_set:\n",
    "    \n",
    "#     tmp_list = [0] + [*parcel_set] + point_arr\n",
    "#     tmp_list = sorted(tmp_list)\n",
    "    \n",
    "#     tmp_adj_mat = gen_adj_mat(adj_mat, tmp_list)\n",
    "    \n",
    "#     tmp_list = list(map(lambda x : name_arr[x], tmp_list))\n",
    "    \n",
    "#     start = time.process_time()\n",
    "#     val, best_path = held_karp(tmp_adj_mat, tmp_list)\n",
    "#     print(f\"Time Taken (Held-Karp): {time.process_time() - start}\")\n",
    "    \n",
    "#     hk_path = min(hk_path, Path(best_path, val))\n",
    "    \n",
    "#     print(f\"Progress: {round(ind / total * 100.0, 2)}%\\n\")\n",
    "    \n",
    "#     ind += 1\n",
    "    \n",
    "# print(f\"Final Time Taken (Held-Karp): {time.process_time() - final_start}\")\n",
    "# print(hk_path)"
   ]
  },
  {
   "cell_type": "markdown",
   "id": "occasional-practitioner",
   "metadata": {},
   "source": [
    "## Optimized Held Karp"
   ]
  },
  {
   "cell_type": "code",
   "execution_count": 16,
   "id": "damaged-casting",
   "metadata": {},
   "outputs": [],
   "source": [
    "# parcel_arr = [ind for (ind, val) in enumerate(name_arr) if \"Parcel\" in val]\n",
    "# point_arr = [ind for (ind, val) in enumerate(name_arr) if \"Point\" in val]\n",
    "\n",
    "# start = time.process_time()\n",
    "# subset_arr, route_arr = [], []\n",
    "# pN, n = len(point_arr), len(name_arr)\n",
    "# for subset_size in range(2, 2 * pN):\n",
    "#     for subset in itertools.combinations(range(1, n), subset_size):\n",
    "#         subset_arr.append(subset)\n",
    "        \n",
    "# for subset in itertools.combinations(parcel_arr, len(point_arr)):\n",
    "#     tmp_arr = sorted([*subset] + point_arr)\n",
    "#     subset_arr.append(tuple(tmp_arr))\n",
    "#     route_arr.append(sum([1 << elem for elem in tmp_arr]))\n",
    "    \n",
    "# print(subset_arr)\n",
    "\n",
    "# print(time.process_time() - start)"
   ]
  },
  {
   "cell_type": "code",
   "execution_count": 17,
   "id": "quality-alexandria",
   "metadata": {},
   "outputs": [
    {
     "name": "stdout",
     "output_type": "stream",
     "text": [
      "([1], [2])\n",
      "([1], [4])\n",
      "([3], [2])\n",
      "([3], [4])\n",
      "([5], [2])\n",
      "([5], [4])\n",
      "([1, 3], [2])\n",
      "([1, 3], [4])\n",
      "([1, 3], [2, 4])\n",
      "([1, 5], [2])\n",
      "([1, 5], [4])\n",
      "([1, 5], [2, 4])\n",
      "([3, 5], [2])\n",
      "([3, 5], [4])\n",
      "([3, 5], [2, 4])\n"
     ]
    }
   ],
   "source": [
    "parcel_arr = [ind for (ind, val) in enumerate(name_arr) if \"Parcel\" in val]\n",
    "point_arr = [ind for (ind, val) in enumerate(name_arr) if \"Point\" in val]\n",
    "\n",
    "start = time.process_time()\n",
    "\n",
    "subset_arr = []\n",
    "\n",
    "for k in range(1, len(point_arr) + 1):\n",
    "    for gSubset in itertools.combinations(parcel_arr, k):\n",
    "        for l in range(k - 1, k + 1):\n",
    "            if l == 0:\n",
    "                continue\n",
    "            for rSubset in itertools.combinations(point_arr, l):\n",
    "                subset_arr.append(([*gSubset], [*rSubset]))\n",
    "                print(([*gSubset], [*rSubset]))\n",
    "            \n",
    "                \n",
    "# route_arr = []\n",
    "# for subset in itertools.combinations(parcel_arr, len(point_arr)):\n",
    "#     tmp_arr = sorted([*subset] + point_arr)\n",
    "#     route_arr.append(sum([1 << elem for elem in tmp_arr]))\n",
    "                \n",
    "# subset_arr = sorted(subset_arr, key = lambda x : len(x[0]) + len(x[1]))\n",
    "# print(subset_arr)\n",
    "\n",
    "# print(route_arr)"
   ]
  },
  {
   "cell_type": "code",
   "execution_count": 36,
   "id": "accredited-whale",
   "metadata": {},
   "outputs": [],
   "source": [
    "def held_karp_2(dists, parcel_arr, point_arr, name_arr):\n",
    "    \"\"\"\n",
    "    Implementation of Held-Karp, an algorithm that solves the Traveling\n",
    "    Salesman Problem using dynamic programming with memoization.\n",
    "    Parameters:\n",
    "        dists: distance matrix\n",
    "    Returns:                             \n",
    "        A tuple, (cost, path).\n",
    "    \"\"\"\n",
    "    n = len(dists)\n",
    "\n",
    "    # Maps each subset of the nodes to the cost to reach that subset, as well\n",
    "    # as what node it passed before reaching this subset.\n",
    "    # Node subsets are represented as set bits.\n",
    "    C = {}\n",
    "    \n",
    "    subset_arr, route_arr = [], []\n",
    "    for k in range(1, len(point_arr) + 1):\n",
    "        for gSubset in itertools.combinations(parcel_arr, k):\n",
    "            for l in range(k - 1, k + 1):\n",
    "                if l == 0:\n",
    "                    continue\n",
    "                for rSubset in itertools.combinations(point_arr, l):\n",
    "                    subset_arr.append(([*gSubset], [*rSubset]))\n",
    "                    \n",
    "                    if len(gSubset) + len(rSubset) == 2 * len(point_arr):\n",
    "                        bits = 0\n",
    "                        for bit in gSubset:\n",
    "                            bits |= 1 << bit\n",
    "            \n",
    "                        for bit in rSubset:\n",
    "                            bits |= 1 << bit\n",
    "                        \n",
    "                        print(bits)\n",
    "                        \n",
    "                        route_arr.append(bits)\n",
    "                \n",
    "    subset_arr = sorted(subset_arr, key = lambda x : len(x[0]) + len(x[1]))\n",
    "\n",
    "    # Set transition cost from initial state\n",
    "    for k in range(1, n):\n",
    "        C[(1 << k, k)] = (dists[0][k], 0)\n",
    "\n",
    "    # Iterate subsets of increasing length and store intermediate results\n",
    "    # in classic dynamic programming manner\n",
    "    for subset in subset_arr:\n",
    "        gSubset, rSubset = subset\n",
    "        # Set bits for all nodes in this subset\n",
    "        bits = 0\n",
    "        \n",
    "        for bit in gSubset:\n",
    "            bits |= 1 << bit\n",
    "            \n",
    "        for bit in rSubset:\n",
    "            bits |= 1 << bit\n",
    "        \n",
    "        subset2 = []\n",
    "        \n",
    "        if len(gSubset) == len(rSubset):\n",
    "            # The last node FROM THE PREVIOUS SUBSET will be a red point\n",
    "            subset2 = gSubset\n",
    "        else:\n",
    "            # The last node FROM THE PREVIOUS SUBSET will be a green point\n",
    "            subset2 = rSubset\n",
    "            \n",
    "        subset1 = [0] * (len(gSubset) + len(rSubset))\n",
    "        \n",
    "        ind = 0\n",
    "        for elem in gSubset:\n",
    "            subset1[ind] = elem\n",
    "            ind += 1\n",
    "            \n",
    "        for elem in rSubset:\n",
    "            subset1[ind] = elem\n",
    "            ind += 1\n",
    "\n",
    "        # Find the lowest cost to get to this subset\n",
    "        for k in subset1:\n",
    "            prev = bits & ~(1 << k)\n",
    "\n",
    "            opt, parent = float('inf'), 0\n",
    "            for m in subset2:     \n",
    "                # Check if Key Exist\n",
    "                key = (prev, m)\n",
    "                if key in C:\n",
    "                    tmp_opt = C[key][0] + dists[m][k]\n",
    "                    if tmp_opt <= opt:\n",
    "                        opt = tmp_opt\n",
    "                        parent = m\n",
    "                \n",
    "            C[(bits, k)] = (opt, parent)\n",
    "            \n",
    "    for k, v in C.items():\n",
    "        print(k, v)\n",
    "                \n",
    "    bits = 0\n",
    "    opt = float('inf')\n",
    "    parent = 0\n",
    "\n",
    "    # Calculate optimal cost\n",
    "    for route_bits in route_arr:\n",
    "        for k in point_arr:\n",
    "            tmp_opt = C[(route_bits,k)][0] + dists[k][0]\n",
    "            \n",
    "            if tmp_opt <= opt:\n",
    "                opt = tmp_opt\n",
    "                parent = k\n",
    "                bits = route_bits\n",
    "\n",
    "    # Backtrack to find full path\n",
    "    path = [\"Depot\"] * (2 * len(point_arr) + 2)\n",
    "    for i in range(2 * len(point_arr), 0, -1):\n",
    "        tmp_val = parent\n",
    "        path[i] = name_arr[tmp_val]\n",
    "        _, parent = C[(bits, tmp_val)]\n",
    "        bits = bits & ~(1 << tmp_val)\n",
    "        \n",
    "    return opt, path"
   ]
  },
  {
   "cell_type": "code",
   "execution_count": 37,
   "id": "according-spider",
   "metadata": {},
   "outputs": [
    {
     "name": "stdout",
     "output_type": "stream",
     "text": [
      "[1, 3, 5] [2, 4]\n"
     ]
    }
   ],
   "source": [
    "parcel_arr = [ind for (ind, val) in enumerate(name_arr) if \"Parcel\" in val]\n",
    "point_arr = [ind for (ind, val) in enumerate(name_arr) if \"Point\" in val]\n",
    "print(parcel_arr, point_arr)"
   ]
  },
  {
   "cell_type": "code",
   "execution_count": 38,
   "id": "raised-cannon",
   "metadata": {},
   "outputs": [
    {
     "name": "stdout",
     "output_type": "stream",
     "text": [
      "30\n",
      "54\n",
      "60\n",
      "(2, 1) (135.532, 0)\n",
      "(4, 2) (inf, 0)\n",
      "(8, 3) (251.336, 0)\n",
      "(16, 4) (inf, 0)\n",
      "(32, 5) (334.646, 0)\n",
      "(6, 1) (inf, 0)\n",
      "(6, 2) (362.459, 1)\n",
      "(18, 1) (inf, 0)\n",
      "(18, 4) (494.75300000000004, 1)\n",
      "(12, 3) (inf, 0)\n",
      "(12, 2) (408.48900000000003, 3)\n",
      "(24, 3) (inf, 0)\n",
      "(24, 4) (419.494, 3)\n",
      "(36, 5) (inf, 0)\n",
      "(36, 2) (499.48800000000006, 5)\n",
      "(48, 5) (inf, 0)\n",
      "(48, 4) (464.203, 5)\n",
      "(14, 1) (635.416, 2)\n",
      "(14, 3) (519.612, 2)\n",
      "(14, 2) (inf, 0)\n",
      "(26, 1) (778.715, 4)\n",
      "(26, 3) (662.9110000000001, 4)\n",
      "(26, 4) (inf, 0)\n",
      "(38, 1) (726.4150000000001, 2)\n",
      "(38, 5) (527.301, 2)\n",
      "(38, 2) (inf, 0)\n",
      "(50, 1) (823.424, 4)\n",
      "(50, 5) (624.3100000000001, 4)\n",
      "(50, 4) (inf, 0)\n",
      "(44, 3) (656.6410000000001, 2)\n",
      "(44, 5) (573.331, 2)\n",
      "(44, 2) (inf, 0)\n",
      "(56, 3) (632.361, 4)\n",
      "(56, 5) (549.051, 4)\n",
      "(56, 4) (inf, 0)\n",
      "(30, 1) (inf, 0)\n",
      "(30, 3) (inf, 0)\n",
      "(30, 2) (820.0640000000001, 3)\n",
      "(30, 4) (687.77, 3)\n",
      "(54, 1) (inf, 0)\n",
      "(54, 5) (inf, 0)\n",
      "(54, 2) (789.152, 5)\n",
      "(54, 4) (656.8580000000001, 5)\n",
      "(60, 3) (inf, 0)\n",
      "(60, 5) (inf, 0)\n",
      "(60, 2) (713.893, 5)\n",
      "(60, 4) (702.888, 5)\n",
      "Shortest Path:['Depot', 'Parcel3', 'Point4', 'Parcel5', 'Point2', 'Depot']\n",
      "Minimum Cost: 887.965\n",
      "0.0\n"
     ]
    }
   ],
   "source": [
    "parcel_arr = [ind for (ind, val) in enumerate(name_arr) if \"Parcel\" in val]\n",
    "point_arr = [ind for (ind, val) in enumerate(name_arr) if \"Point\" in val]\n",
    "start = time.process_time()\n",
    "val, best_path = held_karp_2(adj_mat, parcel_arr, point_arr, name_arr)\n",
    "hk2_path = Path(best_path, val)\n",
    "print(hk2_path)\n",
    "print(time.process_time() - start)"
   ]
  },
  {
   "cell_type": "code",
   "execution_count": 29,
   "id": "humanitarian-flower",
   "metadata": {},
   "outputs": [],
   "source": [
    "# print(hk_path == hk2_path)"
   ]
  },
  {
   "cell_type": "code",
   "execution_count": null,
   "id": "burning-abraham",
   "metadata": {},
   "outputs": [],
   "source": []
  }
 ],
 "metadata": {
  "kernelspec": {
   "display_name": "Python 3",
   "language": "python",
   "name": "python3"
  },
  "language_info": {
   "codemirror_mode": {
    "name": "ipython",
    "version": 3
   },
   "file_extension": ".py",
   "mimetype": "text/x-python",
   "name": "python",
   "nbconvert_exporter": "python",
   "pygments_lexer": "ipython3",
   "version": "3.9.1"
  }
 },
 "nbformat": 4,
 "nbformat_minor": 5
}
