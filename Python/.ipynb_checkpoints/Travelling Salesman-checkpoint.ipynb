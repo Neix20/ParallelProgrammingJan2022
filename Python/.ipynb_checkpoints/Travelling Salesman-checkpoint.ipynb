{
 "cells": [
  {
   "cell_type": "markdown",
   "id": "chicken-funeral",
   "metadata": {},
   "source": [
    "## Load Library"
   ]
  },
  {
   "cell_type": "code",
   "execution_count": 48,
   "id": "undefined-amateur",
   "metadata": {},
   "outputs": [],
   "source": [
    "import math\n",
    "import time\n",
    "import itertools\n",
    "\n",
    "import numpy as np\n",
    "import pandas as pd\n",
    "import networkx as nx\n",
    "\n",
    "import matplotlib.pyplot as plt\n",
    "%matplotlib inline"
   ]
  },
  {
   "cell_type": "markdown",
   "id": "romantic-pressing",
   "metadata": {},
   "source": [
    "## Read File"
   ]
  },
  {
   "cell_type": "code",
   "execution_count": 49,
   "id": "timely-breathing",
   "metadata": {},
   "outputs": [],
   "source": [
    "inFile = open(\"tsp.txt\", \"r\")"
   ]
  },
  {
   "cell_type": "markdown",
   "id": "increased-native",
   "metadata": {},
   "source": [
    "## Convert File to Pandas"
   ]
  },
  {
   "cell_type": "code",
   "execution_count": 50,
   "id": "light-paint",
   "metadata": {},
   "outputs": [
    {
     "data": {
      "text/html": [
       "<div>\n",
       "<style scoped>\n",
       "    .dataframe tbody tr th:only-of-type {\n",
       "        vertical-align: middle;\n",
       "    }\n",
       "\n",
       "    .dataframe tbody tr th {\n",
       "        vertical-align: top;\n",
       "    }\n",
       "\n",
       "    .dataframe thead th {\n",
       "        text-align: right;\n",
       "    }\n",
       "</style>\n",
       "<table border=\"1\" class=\"dataframe\">\n",
       "  <thead>\n",
       "    <tr style=\"text-align: right;\">\n",
       "      <th></th>\n",
       "      <th>Name</th>\n",
       "      <th>X</th>\n",
       "      <th>Y</th>\n",
       "    </tr>\n",
       "  </thead>\n",
       "  <tbody>\n",
       "    <tr>\n",
       "      <th>0</th>\n",
       "      <td>Depot</td>\n",
       "      <td>265</td>\n",
       "      <td>143</td>\n",
       "    </tr>\n",
       "    <tr>\n",
       "      <th>1</th>\n",
       "      <td>Parcel1</td>\n",
       "      <td>253</td>\n",
       "      <td>278</td>\n",
       "    </tr>\n",
       "    <tr>\n",
       "      <th>2</th>\n",
       "      <td>Point2</td>\n",
       "      <td>439</td>\n",
       "      <td>148</td>\n",
       "    </tr>\n",
       "    <tr>\n",
       "      <th>3</th>\n",
       "      <td>Parcel3</td>\n",
       "      <td>458</td>\n",
       "      <td>304</td>\n",
       "    </tr>\n",
       "    <tr>\n",
       "      <th>4</th>\n",
       "      <td>Point4</td>\n",
       "      <td>609</td>\n",
       "      <td>230</td>\n",
       "    </tr>\n",
       "    <tr>\n",
       "      <th>5</th>\n",
       "      <td>Parcel5</td>\n",
       "      <td>597</td>\n",
       "      <td>101</td>\n",
       "    </tr>\n",
       "  </tbody>\n",
       "</table>\n",
       "</div>"
      ],
      "text/plain": [
       "      Name    X    Y\n",
       "0    Depot  265  143\n",
       "1  Parcel1  253  278\n",
       "2   Point2  439  148\n",
       "3  Parcel3  458  304\n",
       "4   Point4  609  230\n",
       "5  Parcel5  597  101"
      ]
     },
     "execution_count": 50,
     "metadata": {},
     "output_type": "execute_result"
    }
   ],
   "source": [
    "arr_list = []\n",
    "\n",
    "inFile.seek(0)\n",
    "for line in inFile.readlines():\n",
    "    line = line[:-1]\n",
    "    arr_list.append(line.split(\" \"))\n",
    "    \n",
    "df = pd.DataFrame(arr_list, columns = [\"Name\", \"X\", \"Y\"])\n",
    "\n",
    "# Convert Value From String to int\n",
    "df[\"X\"] = df[\"X\"].astype(int)\n",
    "df[\"Y\"] = df[\"Y\"].astype(int)\n",
    "\n",
    "df"
   ]
  },
  {
   "cell_type": "code",
   "execution_count": 51,
   "id": "seeing-corps",
   "metadata": {},
   "outputs": [],
   "source": [
    "def distance(p1, p2):\n",
    "    return math.sqrt((p1.x - p2.x) ** 2 + (p1.y - p2.y) ** 2)"
   ]
  },
  {
   "cell_type": "code",
   "execution_count": 52,
   "id": "resistant-registrar",
   "metadata": {},
   "outputs": [],
   "source": [
    "class Point:\n",
    "    def __init__(self, name, x, y):\n",
    "        self.name = name\n",
    "        self.x = x\n",
    "        self.y = y\n",
    "        \n",
    "    def toString(self):\n",
    "        return f\"Name: {self.name}, X Pos: {self.x}, Y Pos: {self.y}\""
   ]
  },
  {
   "cell_type": "code",
   "execution_count": 53,
   "id": "thousand-ultimate",
   "metadata": {},
   "outputs": [],
   "source": [
    "def create_point(ind):\n",
    "    row = df.iloc[ind, :]\n",
    "    return Point(row.Name, row.X, row.Y)"
   ]
  },
  {
   "cell_type": "code",
   "execution_count": 54,
   "id": "organic-sigma",
   "metadata": {},
   "outputs": [],
   "source": [
    "def add_edge_to_graph(G, e1, e2, w):\n",
    "    G.add_edge(e1, e2, weight=w)"
   ]
  },
  {
   "cell_type": "markdown",
   "id": "sporting-reading",
   "metadata": {},
   "source": [
    "## Create Point Array"
   ]
  },
  {
   "cell_type": "code",
   "execution_count": 55,
   "id": "separate-drink",
   "metadata": {},
   "outputs": [
    {
     "data": {
      "text/plain": [
       "['Depot', 'Parcel1', 'Point2', 'Parcel3', 'Point4', 'Parcel5']"
      ]
     },
     "execution_count": 55,
     "metadata": {},
     "output_type": "execute_result"
    }
   ],
   "source": [
    "pt_arr = []\n",
    "\n",
    "inFile.seek(0)\n",
    "for line in inFile.readlines():\n",
    "    line = line[:-1]\n",
    "    tmp_arr = line.split(\" \")\n",
    "    \n",
    "    pt_name = tmp_arr[0]\n",
    "    x_pos = int(tmp_arr[1])\n",
    "    y_pos = int(tmp_arr[2])\n",
    "    \n",
    "    pt = Point(pt_name, x_pos, y_pos)\n",
    "    \n",
    "    pt_arr.append(pt)\n",
    "    \n",
    "name_arr = list(map(lambda x : x.name, pt_arr))\n",
    "name_arr"
   ]
  },
  {
   "cell_type": "markdown",
   "id": "requested-extension",
   "metadata": {},
   "source": [
    "## Display Graph"
   ]
  },
  {
   "cell_type": "code",
   "execution_count": 56,
   "id": "particular-update",
   "metadata": {},
   "outputs": [
    {
     "data": {
      "image/png": "[encoded data removed]",
      "text/plain": [
       "<Figure size 864x576 with 1 Axes>"
      ]
     },
     "metadata": {},
     "output_type": "display_data"
    }
   ],
   "source": [
    "G = nx.Graph()\n",
    "\n",
    "dist_val = 0\n",
    "\n",
    "for pt in pt_arr:\n",
    "    \n",
    "    name = pt.name\n",
    "    \n",
    "    G.add_node(pt.name, pos = (pt.x, pt.y))\n",
    "    \n",
    "    for pt2 in pt_arr:\n",
    "        dist_val = round(distance(pt, pt2), 3)\n",
    "        if pt.name == pt2.name or (\"Depot\" in pt.name and \"Point\" in pt2.name) or (\"Parcel\" in pt.name and \"Depot\" in pt2.name) or (\"Point\" in pt.name and \"Point\" in pt2.name) or (\"Parcel\" in pt.name and \"Parcel\" in pt2.name):\n",
    "            dist_val = float('inf')\n",
    "        G.add_edge(pt.name, pt2.name, weight = dist_val)\n",
    "    \n",
    "color_map = []\n",
    "\n",
    "for val in G.nodes():\n",
    "    color = \"\"\n",
    "    if \"Depot\" in val:\n",
    "        color = \"Yellow\"\n",
    "    elif \"Parcel\" in val:\n",
    "        color = \"Green\"\n",
    "    elif \"Point\" in val:\n",
    "        color = 'Red'\n",
    "    color_map.append(color)\n",
    "        \n",
    "pos = {pt.name : (pt.x, pt.y) for pt in pt_arr}\n",
    "    \n",
    "    \n",
    "fig, ax = plt.subplots(figsize=(12, 8))\n",
    "\n",
    "nx.draw(G, pos = pos, node_size = 500, node_color = color_map, ax = ax)  # draw nodes and edges\n",
    "nx.draw_networkx_labels(G, pos=pos)\n",
    "\n",
    "labels = nx.get_edge_attributes(G, 'weight')\n",
    "nx.draw_networkx_edge_labels(G, pos, edge_labels = labels, ax = ax)\n",
    "\n",
    "plt.axis(\"on\")\n",
    "ax.set_xlim(100, 500)\n",
    "ax.set_ylim(50, 300)\n",
    "ax.invert_yaxis()\n",
    "ax.tick_params(left=True, bottom=True, labelleft=True, labelbottom=True)\n",
    "plt.show()"
   ]
  },
  {
   "cell_type": "markdown",
   "id": "resistant-capitol",
   "metadata": {},
   "source": [
    "## Make Adjacency Matrix"
   ]
  },
  {
   "cell_type": "code",
   "execution_count": 57,
   "id": "regulated-infection",
   "metadata": {},
   "outputs": [
    {
     "data": {
      "text/html": [
       "<div>\n",
       "<style scoped>\n",
       "    .dataframe tbody tr th:only-of-type {\n",
       "        vertical-align: middle;\n",
       "    }\n",
       "\n",
       "    .dataframe tbody tr th {\n",
       "        vertical-align: top;\n",
       "    }\n",
       "\n",
       "    .dataframe thead th {\n",
       "        text-align: right;\n",
       "    }\n",
       "</style>\n",
       "<table border=\"1\" class=\"dataframe\">\n",
       "  <thead>\n",
       "    <tr style=\"text-align: right;\">\n",
       "      <th></th>\n",
       "      <th>Depot</th>\n",
       "      <th>Parcel1</th>\n",
       "      <th>Point2</th>\n",
       "      <th>Parcel3</th>\n",
       "      <th>Point4</th>\n",
       "      <th>Parcel5</th>\n",
       "    </tr>\n",
       "  </thead>\n",
       "  <tbody>\n",
       "    <tr>\n",
       "      <th>Depot</th>\n",
       "      <td>inf</td>\n",
       "      <td>136.0</td>\n",
       "      <td>inf</td>\n",
       "      <td>251.0</td>\n",
       "      <td>inf</td>\n",
       "      <td>335.0</td>\n",
       "    </tr>\n",
       "    <tr>\n",
       "      <th>Parcel1</th>\n",
       "      <td>inf</td>\n",
       "      <td>inf</td>\n",
       "      <td>227.0</td>\n",
       "      <td>inf</td>\n",
       "      <td>359.0</td>\n",
       "      <td>inf</td>\n",
       "    </tr>\n",
       "    <tr>\n",
       "      <th>Point2</th>\n",
       "      <td>174.0</td>\n",
       "      <td>227.0</td>\n",
       "      <td>inf</td>\n",
       "      <td>157.0</td>\n",
       "      <td>inf</td>\n",
       "      <td>165.0</td>\n",
       "    </tr>\n",
       "    <tr>\n",
       "      <th>Parcel3</th>\n",
       "      <td>inf</td>\n",
       "      <td>inf</td>\n",
       "      <td>157.0</td>\n",
       "      <td>inf</td>\n",
       "      <td>168.0</td>\n",
       "      <td>inf</td>\n",
       "    </tr>\n",
       "    <tr>\n",
       "      <th>Point4</th>\n",
       "      <td>355.0</td>\n",
       "      <td>359.0</td>\n",
       "      <td>inf</td>\n",
       "      <td>168.0</td>\n",
       "      <td>inf</td>\n",
       "      <td>130.0</td>\n",
       "    </tr>\n",
       "    <tr>\n",
       "      <th>Parcel5</th>\n",
       "      <td>inf</td>\n",
       "      <td>inf</td>\n",
       "      <td>165.0</td>\n",
       "      <td>inf</td>\n",
       "      <td>130.0</td>\n",
       "      <td>inf</td>\n",
       "    </tr>\n",
       "  </tbody>\n",
       "</table>\n",
       "</div>"
      ],
      "text/plain": [
       "         Depot  Parcel1  Point2  Parcel3  Point4  Parcel5\n",
       "Depot      inf    136.0     inf    251.0     inf    335.0\n",
       "Parcel1    inf      inf   227.0      inf   359.0      inf\n",
       "Point2   174.0    227.0     inf    157.0     inf    165.0\n",
       "Parcel3    inf      inf   157.0      inf   168.0      inf\n",
       "Point4   355.0    359.0     inf    168.0     inf    130.0\n",
       "Parcel5    inf      inf   165.0      inf   130.0      inf"
      ]
     },
     "execution_count": 57,
     "metadata": {},
     "output_type": "execute_result"
    }
   ],
   "source": [
    "adj_mat = []\n",
    "\n",
    "name_arr = list(map(lambda x : x.name, pt_arr))\n",
    "\n",
    "dist_val = 0\n",
    "\n",
    "for pt in pt_arr:\n",
    "    \n",
    "    name = pt.name\n",
    "    \n",
    "    tmp_arr = []\n",
    "    \n",
    "    for pt2 in pt_arr:\n",
    "        dist_val = round(distance(pt, pt2))\n",
    "        if pt.name == pt2.name or (\"Depot\" in pt.name and \"Point\" in pt2.name) or (\"Parcel\" in pt.name and \"Depot\" in pt2.name) or (\"Point\" in pt.name and \"Point\" in pt2.name) or (\"Parcel\" in pt.name and \"Parcel\" in pt2.name):\n",
    "            dist_val = float('inf')\n",
    "        tmp_arr.append(dist_val)\n",
    "    \n",
    "    adj_mat.append(tmp_arr)\n",
    "    \n",
    "adj_df = pd.DataFrame(adj_mat, columns = df[\"Name\"].tolist(), index = df[\"Name\"].tolist())\n",
    "\n",
    "# Convert adj_df to Float Type\n",
    "adj_df = adj_df.astype(float)\n",
    "\n",
    "adj_df"
   ]
  },
  {
   "cell_type": "code",
   "execution_count": 45,
   "id": "guilty-wrist",
   "metadata": {},
   "outputs": [],
   "source": [
    "class Path:\n",
    "    def __init__(self, path, cost):\n",
    "        self.path = path\n",
    "        self.cost = cost\n",
    "        \n",
    "    def __lt__(self, other):\n",
    "        return self.cost <= other.cost\n",
    "        \n",
    "    def __str__(self):\n",
    "        return f\"Shortest Path:{self.path}\\nMinimum Cost: {self.cost}\"\n",
    "    \n",
    "    def __eq__(self, other):\n",
    "        return self.path == other.path and self.cost == other.cost\n",
    "    \n",
    "    def getNodePath(self, name_arr):\n",
    "        tmp_arr = list(map(lambda x : name_arr[x], self.path))\n",
    "        return \"->\".join(tmp_arr)"
   ]
  },
  {
   "cell_type": "code",
   "execution_count": 46,
   "id": "starting-scroll",
   "metadata": {},
   "outputs": [],
   "source": [
    "def dfs_adv2(adj_mat, visited, path, cost, condition_arr, cur_node):\n",
    "    visited[cur_node] = True\n",
    "    path.append(cur_node)\n",
    "    \n",
    "    min_path = Path([], float('inf'))\n",
    "    \n",
    "    if len(path) > 1:\n",
    "        cost += adj_mat[path[-2]][cur_node]\n",
    "        \n",
    "    tmp_arr = [visited[ind] for ind in condition_arr]\n",
    "    \n",
    "    if min(tmp_arr) == 1:\n",
    "        cost += adj_mat[cur_node][0]\n",
    "        min_path = Path(path.copy() + [0], cost)\n",
    "    else:\n",
    "        for i in range(len(adj_mat)):\n",
    "            if visited[i] == False and adj_mat[cur_node][i] != 0:\n",
    "                min_path2 = dfs_adv2(adj_mat, visited, path, cost, condition_arr, i)\n",
    "                min_path = min(min_path, min_path2)\n",
    "            \n",
    "    path.pop()\n",
    "    visited[cur_node] = False\n",
    "    \n",
    "    return min_path\n",
    "    \n",
    "def dfs_adv(adj_mat, name_arr, start_ind):\n",
    "    visited = [False] * len(adj_mat)\n",
    "    \n",
    "    path = []\n",
    "    \n",
    "    cost = 0\n",
    "    \n",
    "    condition = [ind for (ind, val) in enumerate(name_arr) if \"Point\" in val]\n",
    "    \n",
    "    return dfs_adv2(adj_mat, visited, path, cost, condition, start_ind)"
   ]
  },
  {
   "cell_type": "code",
   "execution_count": null,
   "id": "ongoing-payroll",
   "metadata": {
    "scrolled": false
   },
   "outputs": [],
   "source": [
    "start = time.process_time()\n",
    "print(dfs_adv(adj_mat, name_arr, 0))\n",
    "print(f\"Time Taken: {time.process_time() - start}\")"
   ]
  },
  {
   "cell_type": "code",
   "execution_count": 41,
   "id": "correct-yacht",
   "metadata": {},
   "outputs": [],
   "source": [
    "def getPossiblePath3(arr, visited, path, curr, condition):\n",
    "    visited.add(curr)\n",
    "    path.append(curr)\n",
    "    \n",
    "    final_path = []\n",
    "    \n",
    "    if len(path) == condition:\n",
    "        final_path.append(path.copy())\n",
    "    else:\n",
    "        for val in arr:\n",
    "            if val not in visited:\n",
    "                final_path += getPossiblePath3(arr, visited, path, val, condition)\n",
    "        \n",
    "    path.remove(curr)\n",
    "    visited.remove(curr)\n",
    "    \n",
    "    return final_path\n",
    "\n",
    "def getPossiblePath2(arr, start, condition):\n",
    "    visited = set()\n",
    "    \n",
    "    path = []\n",
    "    \n",
    "    return getPossiblePath3(arr, visited, path, start, condition)\n",
    "\n",
    "def getPossiblePath(arr, condition = 1):\n",
    "    final_arr = []\n",
    "    for val in arr:\n",
    "        final_arr += getPossiblePath2(arr, val, condition)\n",
    "    return final_arr"
   ]
  },
  {
   "cell_type": "code",
   "execution_count": 42,
   "id": "sunset-framework",
   "metadata": {},
   "outputs": [
    {
     "data": {
      "text/plain": [
       "[[1, 3], [1, 5], [3, 1], [3, 5], [5, 1], [5, 3]]"
      ]
     },
     "execution_count": 42,
     "metadata": {},
     "output_type": "execute_result"
    }
   ],
   "source": [
    "getPossiblePath([1, 3, 5], 2)"
   ]
  },
  {
   "cell_type": "code",
   "execution_count": 43,
   "id": "explicit-client",
   "metadata": {
    "scrolled": true
   },
   "outputs": [
    {
     "name": "stdout",
     "output_type": "stream",
     "text": [
      "3628800\n",
      "Time Taken: 0.15625\n",
      "Shortest Path:[0, 2, 1, 15, 13, 11, 10, 3, 4, 9, 7, 0]\n",
      "Minimum Cost: 967\n",
      "Time Taken: 56.859375\n"
     ]
    }
   ],
   "source": [
    "parcel_arr = [ind for (ind, val) in enumerate(name_arr) if \"Parcel\" in val]\n",
    "point_arr = [ind for (ind, val) in enumerate(name_arr) if \"Point\" in val]\n",
    "\n",
    "start = time.process_time()\n",
    "\n",
    "p_parcel = getPossiblePath(parcel_arr, len(point_arr))\n",
    "p_point = getPossiblePath(point_arr, len(point_arr))\n",
    "\n",
    "print(len(p_parcel) * len(p_point))\n",
    "\n",
    "print(f\"Time Taken: {time.process_time() - start}\")\n",
    "\n",
    "start = time.process_time()\n",
    "\n",
    "min_cost = float('inf')\n",
    "min_path = []\n",
    "\n",
    "tmp_arr = []\n",
    "\n",
    "for parcel_points in p_parcel:\n",
    "    for point_points in p_point:\n",
    "        flag = False\n",
    "        arr = [0]\n",
    "        for i, j in zip(parcel_points, point_points):\n",
    "            arr.append(i)\n",
    "            arr.append(j)\n",
    "        arr.append(0)\n",
    "        \n",
    "        tmp_arr.append(\"\".join(map(str, arr)))\n",
    "        \n",
    "        cost = 0\n",
    "        for i, j in zip(arr[:-1], arr[1:]):\n",
    "            cost += adj_mat[i][j]\n",
    "            if cost >= min_cost:\n",
    "                flag = True\n",
    "                break\n",
    "                \n",
    "        if flag:\n",
    "            continue\n",
    "        \n",
    "        min_cost = cost\n",
    "        min_path = arr\n",
    "        \n",
    "print(Path(min_path, min_cost))\n",
    "\n",
    "print(f\"Time Taken: {time.process_time() - start}\")"
   ]
  },
  {
   "cell_type": "code",
   "execution_count": null,
   "id": "previous-relationship",
   "metadata": {},
   "outputs": [],
   "source": [
    "tmp_arr = list(map(lambda x : name_arr[x], min_path))\n",
    "print(\"\\n\".join(tmp_arr))"
   ]
  },
  {
   "cell_type": "code",
   "execution_count": null,
   "id": "filled-pressure",
   "metadata": {},
   "outputs": [],
   "source": [
    "# start = time.process_time()\n",
    "# ans2 = dfs_adv(adj_mat, name_arr, 0)\n",
    "# print(ans2)\n",
    "# print(f\"Time Taken: {time.process_time() - start}\")"
   ]
  },
  {
   "cell_type": "code",
   "execution_count": null,
   "id": "expensive-brake",
   "metadata": {},
   "outputs": [],
   "source": []
  }
 ],
 "metadata": {
  "kernelspec": {
   "display_name": "Python 3",
   "language": "python",
   "name": "python3"
  },
  "language_info": {
   "codemirror_mode": {
    "name": "ipython",
    "version": 3
   },
   "file_extension": ".py",
   "mimetype": "text/x-python",
   "name": "python",
   "nbconvert_exporter": "python",
   "pygments_lexer": "ipython3",
   "version": "3.9.1"
  }
 },
 "nbformat": 4,
 "nbformat_minor": 5
}
