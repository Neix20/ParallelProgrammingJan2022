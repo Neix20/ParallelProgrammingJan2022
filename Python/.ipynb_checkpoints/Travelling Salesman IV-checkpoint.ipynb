{
 "cells": [
  {
   "cell_type": "code",
   "execution_count": 1,
   "id": "clean-member",
   "metadata": {},
   "outputs": [],
   "source": [
    "import time\n",
    "import math"
   ]
  },
  {
   "cell_type": "code",
   "execution_count": 2,
   "id": "reasonable-grill",
   "metadata": {},
   "outputs": [
    {
     "name": "stdout",
     "output_type": "stream",
     "text": [
      "Depot 362 171\n",
      "Point1 420 133\n",
      "Parcel2 454 98\n",
      "Parcel3 469 128\n",
      "Point4 508 198\n",
      "Parcel5 536 157\n",
      "Parcel6 549 187\n",
      "Point7 466 257\n",
      "Parcel8 446 288\n",
      "Parcel9 514 288\n",
      "Point10 372 266\n",
      "Parcel11 289 306\n",
      "Parcel12 396 328\n",
      "Point13 282 246\n",
      "Parcel14 217 226\n",
      "Parcel15 225 282\n",
      "Point16 281 169\n",
      "Parcel17 228 152\n",
      "Parcel18 295 120\n"
     ]
    }
   ],
   "source": [
    "k = open('tsp.txt')\n",
    "\n",
    "points = {}\n",
    "for i in k:\n",
    "    a,b,c = i.split()\n",
    "    print(a,b,c)\n",
    "    points[a] = (int(b),int(c))\n",
    "\n",
    "start = points['Depot']\n",
    "parcels = [points[i] for i in points if 'Parcel'in i]\n",
    "reds = [points[i] for i in points if \"Point\" in i]"
   ]
  },
  {
   "cell_type": "code",
   "execution_count": 3,
   "id": "conditional-marijuana",
   "metadata": {},
   "outputs": [
    {
     "name": "stdout",
     "output_type": "stream",
     "text": [
      "(True, [(295, 120), (281, 169), (217, 226), (282, 246), (289, 306), (372, 266), (446, 288), (466, 257), (514, 288), (508, 198), (469, 128), (420, 133)])\n",
      "901.5740113397962\n",
      "Time taken 1.8083279132843018\n"
     ]
    }
   ],
   "source": [
    "start_time = time.time()\n",
    "cur_max_dist = float('inf')\n",
    "paths = None\n",
    "def recursion(last_point, pbitmask, rbmask,  layer, travel_dist):\n",
    "    global paths\n",
    "    global cur_max_dist\n",
    "    \n",
    "    #print(layer, len(pbitmask), len(rbmask))\n",
    "    if layer == 2 * len(reds):\n",
    "        travel_dist += math.dist( last_point, start )\n",
    "        if travel_dist < cur_max_dist:\n",
    "            cur_max_dist = travel_dist\n",
    "            paths = [pbitmask, rbmask]\n",
    "            return (True, [])\n",
    "        return (False, [])\n",
    "\n",
    "    lp = None\n",
    "    pp = []\n",
    "    hop = False\n",
    "    if len(pbitmask) > len(rbmask):\n",
    "        for i in (set(range(len(reds))) - rbmask):\n",
    "            nd = travel_dist + math.dist( last_point, reds[i] )\n",
    "            if (nd < cur_max_dist):\n",
    "                resa, resb = recursion( reds[i], pbitmask, rbmask | {i}, layer+1, nd )\n",
    "                if resa:\n",
    "                    hop = True\n",
    "                    pp = resb\n",
    "                    lp = reds[i]\n",
    "        if hop:\n",
    "            return (True, [lp]+pp)\n",
    "        return (False, [])\n",
    "\n",
    "    for i in (set(range(len(parcels))) - pbitmask):\n",
    "        nd = travel_dist + math.dist( last_point, parcels[i] )\n",
    "        #travel_dist += math.dist( last_point, parcels[i] )\n",
    "        if (nd < cur_max_dist):\n",
    "            resa, resb = recursion( parcels[i], pbitmask | {i}, rbmask, layer+1, nd )\n",
    "            if resa:\n",
    "                hop = True\n",
    "                pp = resb\n",
    "                lp = parcels[i]\n",
    "    if hop:\n",
    "        return (True, [lp]+pp)\n",
    "    return (False, [])\n",
    "\n",
    "k = recursion( start, set(),set(),0,0 )\n",
    "print(k)\n",
    "print(cur_max_dist)\n",
    "end_time = time.time() - start_time\n",
    "print(\"Time taken\",end_time)"
   ]
  },
  {
   "cell_type": "code",
   "execution_count": null,
   "id": "union-surgery",
   "metadata": {},
   "outputs": [],
   "source": []
  },
  {
   "cell_type": "code",
   "execution_count": null,
   "id": "communist-enterprise",
   "metadata": {},
   "outputs": [],
   "source": []
  }
 ],
 "metadata": {
  "kernelspec": {
   "display_name": "Python 3",
   "language": "python",
   "name": "python3"
  },
  "language_info": {
   "codemirror_mode": {
    "name": "ipython",
    "version": 3
   },
   "file_extension": ".py",
   "mimetype": "text/x-python",
   "name": "python",
   "nbconvert_exporter": "python",
   "pygments_lexer": "ipython3",
   "version": "3.9.1"
  }
 },
 "nbformat": 4,
 "nbformat_minor": 5
}
