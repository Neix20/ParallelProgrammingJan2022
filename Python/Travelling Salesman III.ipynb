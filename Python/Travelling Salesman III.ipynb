{
 "cells": [
  {
   "cell_type": "markdown",
   "id": "recovered-customer",
   "metadata": {},
   "source": [
    "## Load Library"
   ]
  },
  {
   "cell_type": "code",
   "execution_count": 1,
   "id": "undefined-amateur",
   "metadata": {},
   "outputs": [],
   "source": [
    "import math\n",
    "import time\n",
    "import itertools\n",
    "\n",
    "import numpy as np\n",
    "import pandas as pd\n",
    "import networkx as nx\n",
    "\n",
    "import matplotlib.pyplot as plt\n",
    "%matplotlib inline"
   ]
  },
  {
   "cell_type": "markdown",
   "id": "romantic-pressing",
   "metadata": {},
   "source": [
    "## Read File"
   ]
  },
  {
   "cell_type": "code",
   "execution_count": 2,
   "id": "timely-breathing",
   "metadata": {},
   "outputs": [],
   "source": [
    "inFile = open(\"tsp.txt\", \"r\")"
   ]
  },
  {
   "cell_type": "markdown",
   "id": "increased-native",
   "metadata": {},
   "source": [
    "## Convert File to Pandas"
   ]
  },
  {
   "cell_type": "code",
   "execution_count": 3,
   "id": "light-paint",
   "metadata": {},
   "outputs": [
    {
     "data": {
      "text/html": [
       "<div>\n",
       "<style scoped>\n",
       "    .dataframe tbody tr th:only-of-type {\n",
       "        vertical-align: middle;\n",
       "    }\n",
       "\n",
       "    .dataframe tbody tr th {\n",
       "        vertical-align: top;\n",
       "    }\n",
       "\n",
       "    .dataframe thead th {\n",
       "        text-align: right;\n",
       "    }\n",
       "</style>\n",
       "<table border=\"1\" class=\"dataframe\">\n",
       "  <thead>\n",
       "    <tr style=\"text-align: right;\">\n",
       "      <th></th>\n",
       "      <th>Name</th>\n",
       "      <th>X</th>\n",
       "      <th>Y</th>\n",
       "    </tr>\n",
       "  </thead>\n",
       "  <tbody>\n",
       "    <tr>\n",
       "      <th>0</th>\n",
       "      <td>Depot</td>\n",
       "      <td>265</td>\n",
       "      <td>143</td>\n",
       "    </tr>\n",
       "    <tr>\n",
       "      <th>1</th>\n",
       "      <td>Parcel1</td>\n",
       "      <td>253</td>\n",
       "      <td>278</td>\n",
       "    </tr>\n",
       "    <tr>\n",
       "      <th>2</th>\n",
       "      <td>Point2</td>\n",
       "      <td>439</td>\n",
       "      <td>148</td>\n",
       "    </tr>\n",
       "    <tr>\n",
       "      <th>3</th>\n",
       "      <td>Parcel3</td>\n",
       "      <td>458</td>\n",
       "      <td>304</td>\n",
       "    </tr>\n",
       "    <tr>\n",
       "      <th>4</th>\n",
       "      <td>Point4</td>\n",
       "      <td>609</td>\n",
       "      <td>230</td>\n",
       "    </tr>\n",
       "    <tr>\n",
       "      <th>5</th>\n",
       "      <td>Parcel5</td>\n",
       "      <td>597</td>\n",
       "      <td>101</td>\n",
       "    </tr>\n",
       "  </tbody>\n",
       "</table>\n",
       "</div>"
      ],
      "text/plain": [
       "      Name    X    Y\n",
       "0    Depot  265  143\n",
       "1  Parcel1  253  278\n",
       "2   Point2  439  148\n",
       "3  Parcel3  458  304\n",
       "4   Point4  609  230\n",
       "5  Parcel5  597  101"
      ]
     },
     "execution_count": 3,
     "metadata": {},
     "output_type": "execute_result"
    }
   ],
   "source": [
    "arr_list = []\n",
    "\n",
    "inFile.seek(0)\n",
    "for line in inFile.readlines():\n",
    "    line = line[:-1]\n",
    "    arr_list.append(line.split(\" \"))\n",
    "    \n",
    "df = pd.DataFrame(arr_list, columns = [\"Name\", \"X\", \"Y\"])\n",
    "\n",
    "# Convert Value From String to int\n",
    "df[\"X\"] = df[\"X\"].astype(int)\n",
    "df[\"Y\"] = df[\"Y\"].astype(int)\n",
    "\n",
    "df"
   ]
  },
  {
   "cell_type": "code",
   "execution_count": 4,
   "id": "seeing-corps",
   "metadata": {},
   "outputs": [],
   "source": [
    "def distance(p1, p2):\n",
    "    return math.sqrt((p1.x - p2.x) ** 2 + (p1.y - p2.y) ** 2)"
   ]
  },
  {
   "cell_type": "code",
   "execution_count": 5,
   "id": "resistant-registrar",
   "metadata": {},
   "outputs": [],
   "source": [
    "class Point:\n",
    "    def __init__(self, name, x, y):\n",
    "        self.name = name\n",
    "        self.x = x\n",
    "        self.y = y\n",
    "        \n",
    "    def toString(self):\n",
    "        return f\"Name: {self.name}, X Pos: {self.x}, Y Pos: {self.y}\""
   ]
  },
  {
   "cell_type": "code",
   "execution_count": 6,
   "id": "thousand-ultimate",
   "metadata": {},
   "outputs": [],
   "source": [
    "def create_point(ind):\n",
    "    row = df.iloc[ind, :]\n",
    "    return Point(row.Name, row.X, row.Y)"
   ]
  },
  {
   "cell_type": "code",
   "execution_count": 7,
   "id": "organic-sigma",
   "metadata": {},
   "outputs": [],
   "source": [
    "def add_edge_to_graph(G, e1, e2, w):\n",
    "    G.add_edge(e1, e2, weight=w)"
   ]
  },
  {
   "cell_type": "markdown",
   "id": "sporting-reading",
   "metadata": {},
   "source": [
    "## Create Point Array"
   ]
  },
  {
   "cell_type": "code",
   "execution_count": 8,
   "id": "separate-drink",
   "metadata": {},
   "outputs": [
    {
     "data": {
      "text/plain": [
       "['Depot', 'Parcel1', 'Point2', 'Parcel3', 'Point4', 'Parcel5']"
      ]
     },
     "execution_count": 8,
     "metadata": {},
     "output_type": "execute_result"
    }
   ],
   "source": [
    "pt_arr = []\n",
    "\n",
    "inFile.seek(0)\n",
    "for line in inFile.readlines():\n",
    "    line = line[:-1]\n",
    "    tmp_arr = line.split(\" \")\n",
    "    \n",
    "    pt_name = tmp_arr[0]\n",
    "    x_pos = int(tmp_arr[1])\n",
    "    y_pos = int(tmp_arr[2])\n",
    "    \n",
    "    pt = Point(pt_name, x_pos, y_pos)\n",
    "    \n",
    "    pt_arr.append(pt)\n",
    "    \n",
    "name_arr = list(map(lambda x : x.name, pt_arr))\n",
    "name_arr"
   ]
  },
  {
   "cell_type": "markdown",
   "id": "egyptian-aberdeen",
   "metadata": {},
   "source": [
    "## Create Edge Array"
   ]
  },
  {
   "cell_type": "code",
   "execution_count": 9,
   "id": "floating-intake",
   "metadata": {},
   "outputs": [
    {
     "data": {
      "text/plain": [
       "[[inf, 135.532, inf, 251.336, inf, 334.646],\n",
       " [135.532, inf, 226.927, 206.642, 359.221, 386.866],\n",
       " [174.072, 226.927, inf, 157.153, inf, 164.842],\n",
       " [251.336, 206.642, 157.153, inf, 168.158, 246.028],\n",
       " [354.831, 359.221, inf, 168.158, inf, 129.557],\n",
       " [334.646, 386.866, 164.842, 246.028, 129.557, inf]]"
      ]
     },
     "execution_count": 9,
     "metadata": {},
     "output_type": "execute_result"
    }
   ],
   "source": [
    "adj_mat = []\n",
    "\n",
    "name_arr = list(map(lambda x : x.name, pt_arr))\n",
    "\n",
    "dist_val = 0\n",
    "\n",
    "for pt in pt_arr:\n",
    "    \n",
    "    name = pt.name\n",
    "    \n",
    "    tmp_arr = []\n",
    "    \n",
    "    for pt2 in pt_arr:\n",
    "        dist_val = round(distance(pt, pt2), 3)\n",
    "        if pt.name == pt2.name or (\"Depot\" in pt.name and \"Point\" in pt2.name) or (\"Point\" in pt.name and \"Point\" in pt2.name):\n",
    "            dist_val = float('inf')\n",
    "        tmp_arr.append(dist_val)\n",
    "    \n",
    "    adj_mat.append(tmp_arr)\n",
    "    \n",
    "adj_mat"
   ]
  },
  {
   "cell_type": "code",
   "execution_count": 10,
   "id": "prompt-credits",
   "metadata": {},
   "outputs": [],
   "source": [
    "def gen_adj_mat(adj_mat, column_arr):\n",
    "    tmp_adj_mat = []\n",
    "    for row_ind in range(len(adj_mat)):\n",
    "        if row_ind in column_arr:\n",
    "            tmp_list = []\n",
    "            for col_ind in column_arr:\n",
    "                tmp_list.append(adj_mat[row_ind][col_ind])\n",
    "            tmp_adj_mat.append(tmp_list)\n",
    "            \n",
    "    return tmp_adj_mat"
   ]
  },
  {
   "cell_type": "code",
   "execution_count": 11,
   "id": "developing-drive",
   "metadata": {},
   "outputs": [
    {
     "data": {
      "text/plain": [
       "[[inf, inf, 251.336, inf, 334.646],\n",
       " [174.072, inf, 157.153, inf, 164.842],\n",
       " [251.336, 157.153, inf, 168.158, 246.028],\n",
       " [354.831, inf, 168.158, inf, 129.557],\n",
       " [334.646, 164.842, 246.028, 129.557, inf]]"
      ]
     },
     "execution_count": 11,
     "metadata": {},
     "output_type": "execute_result"
    }
   ],
   "source": [
    "gen_adj_mat(adj_mat, [0, 2, 3, 4, 5])"
   ]
  },
  {
   "cell_type": "markdown",
   "id": "subtle-entrepreneur",
   "metadata": {},
   "source": [
    "## Create Path"
   ]
  },
  {
   "cell_type": "code",
   "execution_count": 12,
   "id": "dominant-desktop",
   "metadata": {},
   "outputs": [],
   "source": [
    "class Path:\n",
    "    def __init__(self, path, cost):\n",
    "        self.path = path\n",
    "        self.cost = cost\n",
    "        \n",
    "    def __lt__(self, other):\n",
    "        return self.cost <= other.cost\n",
    "        \n",
    "    def __str__(self):\n",
    "        return f\"Shortest Path:{self.path}\\nMinimum Cost: {self.cost}\"\n",
    "    \n",
    "    def __eq__(self, other):\n",
    "        return self.path == other.path and self.cost == other.cost\n",
    "    \n",
    "    def getNodePath(self, name_arr):\n",
    "        tmp_arr = list(map(lambda x : name_arr[x], self.path))\n",
    "        return \"->\".join(tmp_arr)"
   ]
  },
  {
   "cell_type": "markdown",
   "id": "assigned-texas",
   "metadata": {},
   "source": [
    "## Dynamic TSP"
   ]
  },
  {
   "cell_type": "code",
   "execution_count": 13,
   "id": "secret-input",
   "metadata": {},
   "outputs": [
    {
     "data": {
      "text/plain": [
       "[[inf, inf, 251.336, inf, 334.646],\n",
       " [174.072, inf, 157.153, inf, 164.842],\n",
       " [251.336, 157.153, inf, 168.158, 246.028],\n",
       " [354.831, inf, 168.158, inf, 129.557],\n",
       " [334.646, 164.842, 246.028, 129.557, inf]]"
      ]
     },
     "execution_count": 13,
     "metadata": {},
     "output_type": "execute_result"
    }
   ],
   "source": [
    "ans = gen_adj_mat(adj_mat, [0, 2, 3, 4, 5])\n",
    "ans"
   ]
  },
  {
   "cell_type": "code",
   "execution_count": 14,
   "id": "received-encoding",
   "metadata": {},
   "outputs": [],
   "source": [
    "def check_tuple(arr, condition_arr):\n",
    "    flag = True\n",
    "    for point in condition_arr:\n",
    "        if point not in arr:\n",
    "            flag = False\n",
    "    return flag and len(arr) == (len(condition_arr) * 2 + 1)\n",
    "    "
   ]
  },
  {
   "cell_type": "code",
   "execution_count": 15,
   "id": "connected-india",
   "metadata": {},
   "outputs": [],
   "source": [
    "def retrace_optimal_path(dist_arr, memo, n, condition_arr):\n",
    "    \n",
    "    for k, v in memo.items():\n",
    "        print(k, v)\n",
    "    \n",
    "    full_path_memo = dict((k, v) for k, v in memo.items() if check_tuple(k[0], condition_arr))\n",
    "    \n",
    "    # Update Cost with Cost Back to Origin\n",
    "    for key, val in full_path_memo.items():\n",
    "        visited_tuple, last_point = key\n",
    "        prev_dist, prev_last_point = val\n",
    "        memo[key] = (prev_dist + dist_arr[last_point][0], prev_last_point)\n",
    "        full_path_memo[key] = (prev_dist + dist_arr[last_point][0], prev_last_point)\n",
    "    path_key = min(full_path_memo.keys(), key=lambda x: full_path_memo[x][0])\n",
    "    \n",
    "    print(path_key)\n",
    "    \n",
    "    last_point = path_key[1]\n",
    "    optimal_cost, next_to_last_point = memo[path_key]\n",
    "    \n",
    "    points_to_retrace = tuple(sorted(set(path_key[0]).difference({last_point})))\n",
    "    \n",
    "    optimal_path = [0] * (2 * len(condition_arr) + 2)\n",
    "    \n",
    "    ind = 2 * len(condition_arr)\n",
    "    while next_to_last_point is not None:\n",
    "        optimal_path[ind] = last_point\n",
    "        last_point = next_to_last_point\n",
    "        path_key = (points_to_retrace, last_point)\n",
    "        _, next_to_last_point = memo[path_key]\n",
    "        points_to_retrace = tuple(sorted(set(path_key[0]).difference({last_point})))\n",
    "        ind -= 1\n",
    "        \n",
    "    return optimal_path, optimal_cost"
   ]
  },
  {
   "cell_type": "code",
   "execution_count": 16,
   "id": "digital-cologne",
   "metadata": {},
   "outputs": [],
   "source": [
    "def DP_TSP(distances_array, condition_arr):\n",
    "    n = len(distances_array)\n",
    "    all_points_set = set(range(n))\n",
    "  \n",
    "    # memo keys: tuple(sorted_points_in_path, last_point_in_path)\n",
    "    # memo values: tuple(cost_thus_far, next_to_last_point_in_path)\n",
    "    memo = {(tuple([i]), i): tuple([0, None]) for i in range(n)}\n",
    "    queue = [(tuple([0]), 0)]\n",
    "  \n",
    "    while queue:\n",
    "        prev_visited, prev_last_point = queue.pop(0)\n",
    "        prev_dist, _ = memo[(prev_visited, prev_last_point)]\n",
    "        to_visit = all_points_set.difference(set(prev_visited))\n",
    "        \n",
    "        for new_last_point in to_visit:\n",
    "            new_visited = tuple(sorted(list(prev_visited) + [new_last_point]))\n",
    "            new_dist = (prev_dist + distances_array[prev_last_point][new_last_point])\n",
    "            \n",
    "            if len(new_visited) > (2 * len(condition_arr) + 1):\n",
    "                continue\n",
    "                \n",
    "            key = (new_visited, new_last_point)\n",
    "        \n",
    "            if key not in memo:\n",
    "                memo[key] = (new_dist, prev_last_point)\n",
    "                queue += [key]\n",
    "            else:\n",
    "                # Update Cost with minimum Cost\n",
    "                if new_dist < memo[key][0]:\n",
    "                    memo[key] = (new_dist, prev_last_point)\n",
    "          \n",
    "    optimal_path, optimal_cost = retrace_optimal_path(distances_array, memo, n, condition_arr)\n",
    "    return optimal_path, optimal_cost"
   ]
  },
  {
   "cell_type": "code",
   "execution_count": 17,
   "id": "nearby-pakistan",
   "metadata": {},
   "outputs": [
    {
     "name": "stdout",
     "output_type": "stream",
     "text": [
      "[2, 4]\n",
      "((0,), 0) (0, None)\n",
      "((1,), 1) (0, None)\n",
      "((2,), 2) (0, None)\n",
      "((3,), 3) (0, None)\n",
      "((4,), 4) (0, None)\n",
      "((5,), 5) (0, None)\n",
      "((0, 1), 1) (135.532, 0)\n",
      "((0, 2), 2) (inf, 0)\n",
      "((0, 3), 3) (251.336, 0)\n",
      "((0, 4), 4) (inf, 0)\n",
      "((0, 5), 5) (334.646, 0)\n",
      "((0, 1, 2), 2) (362.459, 1)\n",
      "((0, 1, 3), 3) (342.174, 1)\n",
      "((0, 1, 4), 4) (494.75300000000004, 1)\n",
      "((0, 1, 5), 5) (522.398, 1)\n",
      "((0, 1, 2), 1) (inf, 2)\n",
      "((0, 2, 3), 3) (inf, 2)\n",
      "((0, 2, 4), 4) (inf, 2)\n",
      "((0, 2, 5), 5) (inf, 2)\n",
      "((0, 1, 3), 1) (457.978, 3)\n",
      "((0, 2, 3), 2) (408.48900000000003, 3)\n",
      "((0, 3, 4), 4) (419.494, 3)\n",
      "((0, 3, 5), 5) (497.36400000000003, 3)\n",
      "((0, 1, 4), 1) (inf, 4)\n",
      "((0, 2, 4), 2) (inf, 4)\n",
      "((0, 3, 4), 3) (inf, 4)\n",
      "((0, 4, 5), 5) (inf, 4)\n",
      "((0, 1, 5), 1) (721.512, 5)\n",
      "((0, 2, 5), 2) (499.48800000000006, 5)\n",
      "((0, 3, 5), 3) (580.674, 5)\n",
      "((0, 4, 5), 4) (464.203, 5)\n",
      "((0, 1, 2, 3), 3) (519.612, 2)\n",
      "((0, 1, 2, 4), 4) (inf, 2)\n",
      "((0, 1, 2, 5), 5) (527.301, 2)\n",
      "((0, 1, 2, 3), 2) (499.327, 3)\n",
      "((0, 1, 3, 4), 4) (510.332, 3)\n",
      "((0, 1, 3, 5), 5) (588.202, 3)\n",
      "((0, 1, 2, 4), 2) (inf, 4)\n",
      "((0, 1, 3, 4), 3) (662.9110000000001, 4)\n",
      "((0, 1, 4, 5), 5) (624.3100000000001, 4)\n",
      "((0, 1, 2, 5), 2) (687.24, 5)\n",
      "((0, 1, 3, 5), 3) (768.426, 5)\n",
      "((0, 1, 4, 5), 4) (651.955, 5)\n",
      "((0, 1, 2, 3), 1) (635.416, 2)\n",
      "((0, 2, 3, 4), 4) (inf, 3)\n",
      "((0, 2, 3, 5), 5) (573.331, 2)\n",
      "((0, 1, 2, 4), 1) (inf, 4)\n",
      "((0, 2, 3, 4), 3) (inf, 4)\n",
      "((0, 2, 4, 5), 5) (inf, 4)\n",
      "((0, 1, 2, 5), 1) (726.4150000000001, 2)\n",
      "((0, 2, 3, 5), 3) (656.6410000000001, 2)\n",
      "((0, 2, 4, 5), 4) (inf, 5)\n",
      "((0, 1, 3, 4), 1) (778.715, 4)\n",
      "((0, 2, 3, 4), 2) (inf, 4)\n",
      "((0, 3, 4, 5), 5) (549.051, 4)\n",
      "((0, 1, 3, 5), 1) (787.316, 3)\n",
      "((0, 2, 3, 5), 2) (662.206, 5)\n",
      "((0, 3, 4, 5), 4) (626.921, 5)\n",
      "((0, 1, 4, 5), 1) (823.424, 4)\n",
      "((0, 2, 4, 5), 2) (inf, 5)\n",
      "((0, 3, 4, 5), 3) (632.361, 4)\n",
      "((0, 1, 2, 3, 4), 4) (687.77, 3)\n",
      "((0, 1, 2, 3, 5), 5) (664.169, 2)\n",
      "((0, 1, 2, 3, 4), 3) (inf, 4)\n",
      "((0, 1, 2, 4, 5), 5) (inf, 4)\n",
      "((0, 1, 2, 3, 5), 3) (773.3290000000001, 5)\n",
      "((0, 1, 2, 4, 5), 4) (656.8580000000001, 5)\n",
      "((0, 1, 2, 3, 4), 2) (820.0640000000001, 3)\n",
      "((0, 1, 3, 4, 5), 5) (639.889, 4)\n",
      "((0, 1, 2, 3, 5), 2) (753.044, 5)\n",
      "((0, 1, 3, 4, 5), 4) (717.759, 5)\n",
      "((0, 1, 2, 4, 5), 2) (789.152, 5)\n",
      "((0, 1, 3, 4, 5), 3) (820.113, 4)\n",
      "((0, 1, 2, 3, 4), 1) (inf, 4)\n",
      "((0, 2, 3, 4, 5), 5) (inf, 4)\n",
      "((0, 1, 2, 3, 5), 1) (863.2830000000001, 3)\n",
      "((0, 2, 3, 4, 5), 4) (702.888, 5)\n",
      "((0, 1, 2, 4, 5), 1) (inf, 5)\n",
      "((0, 2, 3, 4, 5), 3) (inf, 5)\n",
      "((0, 1, 3, 4, 5), 1) (839.0029999999999, 3)\n",
      "((0, 2, 3, 4, 5), 2) (713.893, 5)\n",
      "((0, 2, 3, 4, 5), 2)\n",
      "Time Taken (Held-Karp): 0.0\n"
     ]
    }
   ],
   "source": [
    "point_arr = [ind for (ind, val) in enumerate(name_arr) if \"Point\" in val]\n",
    "\n",
    "print(point_arr)\n",
    "\n",
    "start = time.process_time()\n",
    "DP_TSP(adj_mat, point_arr)\n",
    "print(f\"Time Taken (Held-Karp): {time.process_time() - start}\")"
   ]
  },
  {
   "cell_type": "code",
   "execution_count": null,
   "id": "romantic-anaheim",
   "metadata": {},
   "outputs": [],
   "source": []
  },
  {
   "cell_type": "code",
   "execution_count": null,
   "id": "alternate-shape",
   "metadata": {},
   "outputs": [],
   "source": []
  }
 ],
 "metadata": {
  "kernelspec": {
   "display_name": "Python 3",
   "language": "python",
   "name": "python3"
  },
  "language_info": {
   "codemirror_mode": {
    "name": "ipython",
    "version": 3
   },
   "file_extension": ".py",
   "mimetype": "text/x-python",
   "name": "python",
   "nbconvert_exporter": "python",
   "pygments_lexer": "ipython3",
   "version": "3.9.1"
  }
 },
 "nbformat": 4,
 "nbformat_minor": 5
}
